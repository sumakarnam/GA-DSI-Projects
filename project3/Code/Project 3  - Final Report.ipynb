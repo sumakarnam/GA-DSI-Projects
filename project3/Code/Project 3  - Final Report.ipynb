{
 "cells": [
  {
   "cell_type": "markdown",
   "id": "a9b04aa3",
   "metadata": {},
   "source": [
    "# Project 3 Web APIs and NLP "
   ]
  },
  {
   "cell_type": "markdown",
   "id": "3aa63d81",
   "metadata": {},
   "source": [
    "## Contents\n",
    "\n",
    "1. [Introduction](#Introduction)\n",
    "2. [Data Cleaning and EDA](#Data-Cleaning-and-EDA)\n",
    "3. [Baseline Model](#Baseline-model)\n",
    "4. [Comparison of performance of ML classification models](#Comparison-of-performance-of-ML-classification-models)\n",
    "5. [Further analysis of the best gradient boosting model ](#Further-analysis-of-the-best-gradient-boosting-model)\n",
    "6. [Conclusions and TODO](#Conclusions-and-TODO)"
   ]
  },
  {
   "cell_type": "markdown",
   "id": "7ebaafe9",
   "metadata": {},
   "source": [
    "## Introduction"
   ]
  },
  {
   "cell_type": "markdown",
   "id": "cf06c3d4",
   "metadata": {},
   "source": [
    "**About Reddit**\n",
    "\n",
    "[Reddit](https://www.reddit.com/) is an American social news aggregation, web content rating, and discussion website. Registered members submit content to the site such as links, text posts, images, and videos, which are then voted up or down by other members. Posts are organized by subject into user-created boards called \"communities\" or \"subreddits\", which cover a variety of topics [(source)](https://en.wikipedia.org/wiki/Reddit). \n",
    "\n",
    "**Goals**\n",
    "\n",
    "This analysis aims to scrape data from two subreddits and build a machine learning model to classify them. \n",
    "\n",
    "**The subreddits**\n",
    "\n",
    "The subreddits being used in this analysis and their descriptions from (https://www.reddit.com/) are given below:\n",
    "\n",
    "- [r/languagelearning](https://www.reddit.com/r/languagelearning/)\n",
    "\n",
    "    This is a subreddit for anybody interested in the pursuit of languages. Whether you are just starting, a polyglot or a language nerd, this is the place for you!\n",
    "        \n",
    "        \n",
    "- [r/linguistics](https://www.reddit.com/r/linguistics/)\n",
    "\n",
    "    \\*\\*lin⋅guis⋅tics\\*\\*: the scientific study of human \\*language\\* \\* what form does it take? \\* how is meaning constructed? \\* how is it structured? \\* how is it produced?\n",
    "\n",
    "**Problem Statement**\n",
    "\n",
    "[Section 3](#Baseline-model) elaborates on a basic model with an accuracy of 74%. The aim is to build more sophisticated models and improve on this baseline accuracy"
   ]
  },
  {
   "cell_type": "code",
   "execution_count": 3,
   "id": "83b2ee72",
   "metadata": {},
   "outputs": [],
   "source": [
    "#imports\n",
    "\n",
    "import pandas as pd\n",
    "import numpy as np\n",
    "import matplotlib.pyplot as plt\n",
    "%matplotlib inline\n",
    "\n",
    "import seaborn as sns\n",
    "\n",
    "# seaborn plot styles\n",
    "\n",
    "sns.set_style(\"dark\")\n",
    "sns.set_palette(\"deep\")\n",
    "plt.rcParams[\"axes.labelsize\"] = 15\n",
    "plt.rcParams[\"axes.titlesize\"] = 20\n",
    "myblue = '#0b5394'\n",
    "\n",
    "from sklearn.feature_extraction.text import CountVectorizer, TfidfVectorizer\n",
    "from sklearn.model_selection import train_test_split, GridSearchCV, cross_val_score, RandomizedSearchCV\n",
    "from sklearn.ensemble import RandomForestClassifier, ExtraTreesClassifier, GradientBoostingClassifier, AdaBoostClassifier, VotingClassifier\n",
    "from sklearn.pipeline import Pipeline\n",
    "\n",
    "from sklearn.metrics import accuracy_score\n",
    "\n",
    "import pickle\n",
    "\n",
    "from scipy.stats import uniform\n",
    "\n",
    "#display all output form a cell not just the last (the options are 'all', 'none', 'last' and 'last_expr'.)\n",
    "\n",
    "from IPython.core.interactiveshell import InteractiveShell\n",
    "InteractiveShell.ast_node_interactivity = \"all\"\n",
    "\n",
    "import time"
   ]
  },
  {
   "cell_type": "markdown",
   "id": "46779e7d",
   "metadata": {},
   "source": [
    "## Data Cleaning and EDA"
   ]
  },
  {
   "cell_type": "markdown",
   "id": "7b319877",
   "metadata": {},
   "source": [
    "Data cleaning and EDA details are available in a [separate notebook](https://git.generalassemb.ly/sumakarnam/dsir-82/blob/master/projects/project3/Code/EDA.ipynb). The scraped reddit data was cleaned by discarding any posts that were removed or had no content except for the title. This data was then stored in a DataFrame which is imported in the next cell. The EDA also includes a analysis of the numerical features of the scraped data (character and word counts of the title and text of the post and number of comments). As the distributions of these numerical features were similar for both the subreddits, the current analysis uses only the text data to classify the posts. "
   ]
  },
  {
   "cell_type": "code",
   "execution_count": 4,
   "id": "5c4fc6bb",
   "metadata": {},
   "outputs": [
    {
     "data": {
      "text/html": [
       "<div>\n",
       "<style scoped>\n",
       "    .dataframe tbody tr th:only-of-type {\n",
       "        vertical-align: middle;\n",
       "    }\n",
       "\n",
       "    .dataframe tbody tr th {\n",
       "        vertical-align: top;\n",
       "    }\n",
       "\n",
       "    .dataframe thead th {\n",
       "        text-align: right;\n",
       "    }\n",
       "</style>\n",
       "<table border=\"1\" class=\"dataframe\">\n",
       "  <thead>\n",
       "    <tr style=\"text-align: right;\">\n",
       "      <th></th>\n",
       "      <th>subreddit</th>\n",
       "      <th>title</th>\n",
       "      <th>selftext</th>\n",
       "      <th>created_utc</th>\n",
       "      <th>author</th>\n",
       "      <th>num_comments</th>\n",
       "      <th>post_word_count</th>\n",
       "      <th>post_char_count</th>\n",
       "      <th>title_char_count</th>\n",
       "      <th>title_word_count</th>\n",
       "    </tr>\n",
       "  </thead>\n",
       "  <tbody>\n",
       "    <tr>\n",
       "      <th>0</th>\n",
       "      <td>languagelearning</td>\n",
       "      <td>I would like to dedicate the rest of my 20s to...</td>\n",
       "      <td>(Age 24 from the USA) I've realized that the o...</td>\n",
       "      <td>1630453380</td>\n",
       "      <td>TheSweetOnion</td>\n",
       "      <td>25</td>\n",
       "      <td>298</td>\n",
       "      <td>1688</td>\n",
       "      <td>77</td>\n",
       "      <td>15</td>\n",
       "    </tr>\n",
       "    <tr>\n",
       "      <th>1</th>\n",
       "      <td>languagelearning</td>\n",
       "      <td>Is it difficult because it's Korean, or is it ...</td>\n",
       "      <td>Thank you! Many of you answer my question. \\n\\...</td>\n",
       "      <td>1630450791</td>\n",
       "      <td>Altruistic-Ad-8788</td>\n",
       "      <td>2</td>\n",
       "      <td>36</td>\n",
       "      <td>249</td>\n",
       "      <td>95</td>\n",
       "      <td>16</td>\n",
       "    </tr>\n",
       "  </tbody>\n",
       "</table>\n",
       "</div>"
      ],
      "text/plain": [
       "          subreddit                                              title  \\\n",
       "0  languagelearning  I would like to dedicate the rest of my 20s to...   \n",
       "1  languagelearning  Is it difficult because it's Korean, or is it ...   \n",
       "\n",
       "                                            selftext  created_utc  \\\n",
       "0  (Age 24 from the USA) I've realized that the o...   1630453380   \n",
       "1  Thank you! Many of you answer my question. \\n\\...   1630450791   \n",
       "\n",
       "               author  num_comments  post_word_count  post_char_count  \\\n",
       "0       TheSweetOnion            25              298             1688   \n",
       "1  Altruistic-Ad-8788             2               36              249   \n",
       "\n",
       "   title_char_count  title_word_count  \n",
       "0                77                15  \n",
       "1                95                16  "
      ]
     },
     "execution_count": 4,
     "metadata": {},
     "output_type": "execute_result"
    },
    {
     "data": {
      "text/plain": [
       "(4036, 10)"
      ]
     },
     "execution_count": 4,
     "metadata": {},
     "output_type": "execute_result"
    },
    {
     "data": {
      "text/html": [
       "<div>\n",
       "<style scoped>\n",
       "    .dataframe tbody tr th:only-of-type {\n",
       "        vertical-align: middle;\n",
       "    }\n",
       "\n",
       "    .dataframe tbody tr th {\n",
       "        vertical-align: top;\n",
       "    }\n",
       "\n",
       "    .dataframe thead th {\n",
       "        text-align: right;\n",
       "    }\n",
       "</style>\n",
       "<table border=\"1\" class=\"dataframe\">\n",
       "  <thead>\n",
       "    <tr style=\"text-align: right;\">\n",
       "      <th></th>\n",
       "      <th>title</th>\n",
       "      <th>selftext</th>\n",
       "      <th>created_utc</th>\n",
       "      <th>author</th>\n",
       "      <th>num_comments</th>\n",
       "      <th>post_word_count</th>\n",
       "      <th>post_char_count</th>\n",
       "      <th>title_char_count</th>\n",
       "      <th>title_word_count</th>\n",
       "    </tr>\n",
       "    <tr>\n",
       "      <th>subreddit</th>\n",
       "      <th></th>\n",
       "      <th></th>\n",
       "      <th></th>\n",
       "      <th></th>\n",
       "      <th></th>\n",
       "      <th></th>\n",
       "      <th></th>\n",
       "      <th></th>\n",
       "      <th></th>\n",
       "    </tr>\n",
       "  </thead>\n",
       "  <tbody>\n",
       "    <tr>\n",
       "      <th>languagelearning</th>\n",
       "      <td>2015</td>\n",
       "      <td>2015</td>\n",
       "      <td>2015</td>\n",
       "      <td>2015</td>\n",
       "      <td>2015</td>\n",
       "      <td>2015</td>\n",
       "      <td>2015</td>\n",
       "      <td>2015</td>\n",
       "      <td>2015</td>\n",
       "    </tr>\n",
       "    <tr>\n",
       "      <th>linguistics</th>\n",
       "      <td>2021</td>\n",
       "      <td>2021</td>\n",
       "      <td>2021</td>\n",
       "      <td>2021</td>\n",
       "      <td>2021</td>\n",
       "      <td>2021</td>\n",
       "      <td>2021</td>\n",
       "      <td>2021</td>\n",
       "      <td>2021</td>\n",
       "    </tr>\n",
       "  </tbody>\n",
       "</table>\n",
       "</div>"
      ],
      "text/plain": [
       "                  title  selftext  created_utc  author  num_comments  \\\n",
       "subreddit                                                              \n",
       "languagelearning   2015      2015         2015    2015          2015   \n",
       "linguistics        2021      2021         2021    2021          2021   \n",
       "\n",
       "                  post_word_count  post_char_count  title_char_count  \\\n",
       "subreddit                                                              \n",
       "languagelearning             2015             2015              2015   \n",
       "linguistics                  2021             2021              2021   \n",
       "\n",
       "                  title_word_count  \n",
       "subreddit                           \n",
       "languagelearning              2015  \n",
       "linguistics                   2021  "
      ]
     },
     "execution_count": 4,
     "metadata": {},
     "output_type": "execute_result"
    }
   ],
   "source": [
    "# reading in already cleaned data\n",
    "\n",
    "data = pd.read_csv('../Data/reddit_data_clean.csv')\n",
    "data.head(2)\n",
    "data.shape\n",
    "data.groupby('subreddit').count()"
   ]
  },
  {
   "cell_type": "markdown",
   "id": "4f4a226a",
   "metadata": {},
   "source": [
    "## Baseline model"
   ]
  },
  {
   "cell_type": "markdown",
   "id": "b826b04f",
   "metadata": {},
   "source": [
    "This section involves building two simple baseline models by considering the most common words that occur in one of the subreddits but not the other.\n",
    "\n",
    "For each subreddit, a list of frequent words that occur in it but not frequently in the other is constructed. \n",
    "\n",
    "- Model 1: If a post contains at least one word from this list for r/languagelearning, it is classified to be from that r/languagelearning, else r/linguistics. \n",
    "- Model 2: If a post contains at least one word from this list for r/linguistics, it is classified to be from that r/linguistics, r/languagelearning. \n",
    "\n",
    "These models were iterated for various lengths of the frequent words list.\n",
    "\n",
    "- Best Accuracies of these models were observed to be as follows:\n",
    "    - Model 1: 0.74\n",
    "    - Model 2: 0.61\n",
    "\n",
    "Here are some interesting observations about the baseline models:\n",
    "\n",
    "\n",
    "\n",
    "\n",
    "- As expected, Model 1 did better on r/languagelearning while Model 2 did better on r/linguistics. Interestingly, Model 1 did better with a shorter list of prominent words whereas Model 2 did better with a longer list of prominent words.\n",
    "\n",
    "- A sample of prominent words that featured in r/languagelearning not r/linguistics\n",
    "    - when length of frequent words list = 10: 'learn', 'learning', 'spanish', 'time'\n",
    "    - when length of frequent words list = 50: 'chinese', 'day', 'feel', 'grammar', 'italian', 'japanese', 'language learning'\n",
    "- A sample prominent words that featured in r/linguistics not r/languagelearning\n",
    "    - when length of frquent words list = 10: 'https', 'people', 'word', 'words'\n",
    "    - when length of frquent words list = 50: 'accent', 'ask', 'did', 'different', 'does', 'example', 'greek'\n",
    "    \n",
    "- Model 1 did better when shorter fewer frequent words list was used whereas Model 2 did better otherwise\n",
    "\n",
    "Note:\n",
    "\n",
    "As this model is built to establish a baseline score, no train-test-split or cross-validation was done. The models were evaluated on the whole dataset."
   ]
  },
  {
   "cell_type": "code",
   "execution_count": 5,
   "id": "e1ef07c9",
   "metadata": {},
   "outputs": [],
   "source": [
    "accuracies = {'model_1' : [], 'model_2' : []}\n",
    "\n",
    "for depth in range(10,105,5):\n",
    "\n",
    "    df = data.copy()\n",
    "    #baseline model\n",
    "\n",
    "    cv = CountVectorizer(stop_words='english', ngram_range=(1,2))\n",
    "\n",
    "    #vectorizing text column and making a DataFrame with the vectors\n",
    "\n",
    "    vect = cv.fit_transform(df['title'] + ' ' + df['selftext'])\n",
    "    vect_df = pd.DataFrame(vect.todense(), columns=cv.get_feature_names())\n",
    "\n",
    "    #creating a disctionary of important words for each subreddit\n",
    "\n",
    "    imp_words_dict = {'languagelearning' : [] , 'linguistics' : []}\n",
    "    for subreddit in imp_words_dict.keys():    \n",
    "        imp_words_dict[subreddit] = vect_df[df['subreddit'] == subreddit].sum().sort_values(ascending=False).head(depth).index.to_list()\n",
    "\n",
    "    #creating lists of words that are prominent in one subreddit but not the other\n",
    "\n",
    "    languagelearning_features = set(imp_words_dict['languagelearning'])-set(imp_words_dict['linguistics'])\n",
    "    linguistics_features = set(imp_words_dict['linguistics'])-set(imp_words_dict['languagelearning'])\n",
    "\n",
    "    #naive model\n",
    "\n",
    "    df['set_of_words'] = (df['title']+ ' ' + df['selftext']).str.split(' ')\n",
    "    df['model_1'] = df['set_of_words'].map(lambda x: 'languagelearning' if languagelearning_features.intersection(x) != set() else 'linguistics')\n",
    "    df['model_2'] = df['set_of_words'].map(lambda x: 'linguistics' if linguistics_features.intersection(x) != set() else 'languagelearning')\n",
    "\n",
    "    #model accuracy\n",
    "\n",
    "    for x in ['model_1', 'model_2']:\n",
    "        \n",
    "        accuracies[x].append((df[x] == df['subreddit']).value_counts(normalize=True)[True])"
   ]
  },
  {
   "cell_type": "code",
   "execution_count": 6,
   "id": "67e7aecd",
   "metadata": {},
   "outputs": [],
   "source": [
    "#saving baseline accuracies\n",
    "pickle.dump(pd.DataFrame(accuracies), open('../Data/baseline_accuracies.pkl', 'wb'))\n"
   ]
  },
  {
   "cell_type": "code",
   "execution_count": 7,
   "id": "8d55f48e",
   "metadata": {},
   "outputs": [
    {
     "data": {
      "image/png": "[encoded data removed]",
      "text/plain": [
       "<Figure size 1080x360 with 2 Axes>"
      ]
     },
     "metadata": {},
     "output_type": "display_data"
    }
   ],
   "source": [
    "# Performance of the baseline models for various lengths of frequent words list\n",
    "\n",
    "fig, ax = plt.subplots(1,2,figsize = (15,5))\n",
    "sns.scatterplot(x = range(10,105,5), y = accuracies['model_1']  , ax = ax[0], alpha = 1, color = myblue)\n",
    "ax[0].set_title('using r/languagelearning words', fontweight = 'bold')\n",
    "ax[0].set_xlabel('# Prominent Words')\n",
    "ax[0].set_ylabel('Accuracy'); \n",
    "\n",
    "sns.scatterplot(x = range(10,105,5), y = accuracies['model_2']  , ax = ax[1], alpha = 1, color = myblue)\n",
    "ax[1].set_title('using r/linguistics words', fontweight = 'bold')\n",
    "ax[1].set_xlabel('# Prominent Words')\n",
    "ax[1].set_ylabel('Accuracy'); "
   ]
  },
  {
   "cell_type": "markdown",
   "id": "e02f5389",
   "metadata": {},
   "source": [
    "## Comparison of performance of ML classification models"
   ]
  },
  {
   "cell_type": "markdown",
   "id": "98892579",
   "metadata": {},
   "source": [
    "The goal of this section is to improve upon the accuracy of the baseline models using various classification algorithms. The text data was featurized using CountVectorizer and the following classification models were used:\n",
    "\n",
    "- Random Forest \n",
    "- Gradient Boosting\n",
    "- Voting Classifier\n",
    "\n",
    "The hyperparameters for the CountVectorizer and the estimators were tuned using a GridSearch. \n",
    "\n",
    "For each of the above models, the subreddit posts were classified using three different feature sets.\n",
    "- model 1 : using the title of the post\n",
    "- model 2 : using the content (selftext) of the post\n",
    "- model 3 : using both the title and content of the post\n",
    "\n",
    "The models using the text from both the title and content of the post (model 3) outperformed the other two models.\n",
    "The following table summarizes the performance of all of the above models"
   ]
  },
  {
   "cell_type": "markdown",
   "id": "01a21e48",
   "metadata": {},
   "source": [
    "|                   |                   | Overall Accuracy |           |   | Accuracy of r/languagelearning |           |   |  Accuracy of r/linguistics |           |\n",
    "|-------------------|-------------------|:----------------:|:---------:|:-:|:------------------------------:|:---------:|:-:|:--------------------------:|:---------:|\n",
    "|                   |                   |   Training data  | Test Data |   |          Training Data         | Test Data |   |        Training Data       | Test Data |\n",
    "|   Random Forest   |       Title       |       0.79       |    0.72   |   |              0.69              |    0.62   |   |            0.88            |    0.83   |\n",
    "|                   |      Content      |       0.84       |    0.8    |   |              0.76              |    0.73   |   |            0.93            |    0.88   |\n",
    "|                   | Content and title |       0.86       |    0.82   |   |              0.78              |    0.74   |   |            0.94            |    0.9    |\n",
    "|                   |                   |                  |           |   |                                |           |   |                            |           |\n",
    "| Gradient Boosting |       Title       |       0.79       |    0.73   |   |              0.68              |    0.61   |   |             0.9            |    0.85   |\n",
    "|                   |      Content      |       0.86       |    0.81   |   |              0.79              |    0.73   |   |            0.93            |    0.89   |\n",
    "|                   | Content and title |       0.88       |    0.83   |   |              0.82              |    0.77   |   |            0.95            |    0.89   |\n",
    "|                   |                   |                  |           |   |                                |           |   |                            |           |\n",
    "| Voting Classifier |       Title       |        0.8       |    0.74   |   |              0.69              |    0.61   |   |             0.9            |    0.86   |\n",
    "|                   |      Content      |       0.87       |    0.82   |   |               0.8              |    0.75   |   |            0.94            |    0.88   |\n",
    "|                   | Content and title |       0.89       |    0.83   |   |              0.82              |    0.77   |   |            0.95            |    0.89   |"
   ]
  },
  {
   "cell_type": "code",
   "execution_count": 8,
   "id": "7df65f79",
   "metadata": {},
   "outputs": [],
   "source": [
    "#helper function\n",
    "\n",
    "#shorthand - r/ll is the subreddit languagelearning and r/lg is the subreddit linguistics\n",
    "\n",
    "def rf_model_evaluation(X, y):\n",
    "    '''\n",
    "    For a text column X and target column y, run a grid search with a particular \n",
    "    set of parameters for countvectorizing X and fitting a random forest model and return an array with \n",
    "    [overall train score, overall test score, \n",
    "    r/ll train score, r/ll test score, \n",
    "    r/lg train score, r/lg test score,\n",
    "    best parameters]\n",
    "    \n",
    "    TODO: \n",
    "    Modify to pass estimator and params as arguments\n",
    "    Return a dictionary instead of a list\n",
    "    \n",
    "    '''\n",
    "    pipe = Pipeline([\n",
    "        ('cvec', CountVectorizer(stop_words='english')),\n",
    "        ('rf', RandomForestClassifier(random_state=42))    \n",
    "    ])\n",
    "\n",
    "    pipe_params = {\n",
    "        'cvec__max_features': [2000,3000,4000,5000],\n",
    "        'cvec__min_df': [2, 3],\n",
    "        'cvec__max_df': [0.9],\n",
    "        'cvec__ngram_range': [(1,1),(1,2),(1,3)],\n",
    "        'rf__n_estimators': [100, 200],\n",
    "        'rf__max_depth': [4, 5],\n",
    "        'rf__max_features': ['sqrt', .5]\n",
    "    }\n",
    "\n",
    "    gs = GridSearchCV(\n",
    "        estimator = pipe,\n",
    "        param_grid = pipe_params,\n",
    "        cv = 3,\n",
    "        n_jobs = -1,\n",
    "        verbose = 1\n",
    "    )\n",
    "\n",
    "    #train-test-split\n",
    "\n",
    "    X_train, X_test, y_train, y_test = train_test_split(X, y, random_state=42, stratify=y)\n",
    "\n",
    "    #fitting and evaluating the model\n",
    "\n",
    "    gs.fit(X_train, y_train)\n",
    "    \n",
    "    #training accuracy by subreddit\n",
    "    preds_df = pd.DataFrame({'true': y_train, 'preds' : gs.predict(X_train).tolist() })\n",
    "    train_ll = preds_df[preds_df['true'] == 'languagelearning'].value_counts(normalize = True)['languagelearning','languagelearning']\n",
    "    train_lg = preds_df[preds_df['true'] == 'linguistics'].value_counts(normalize = True)['linguistics','linguistics']\n",
    "    \n",
    "    #testing accuracy by subreddit\n",
    "    preds_df = pd.DataFrame({'true': y_test, 'preds' : gs.predict(X_test).tolist() })\n",
    "    test_ll = preds_df[preds_df['true'] == 'languagelearning'].value_counts(normalize = True)['languagelearning','languagelearning']\n",
    "    test_lg = preds_df[preds_df['true'] == 'linguistics'].value_counts(normalize = True)['linguistics','linguistics']    \n",
    "    return([\n",
    "         gs.score(X_train, y_train),\n",
    "         gs.score(X_test, y_test),\n",
    "         train_ll, test_ll,\n",
    "         train_lg, test_lg,\n",
    "         gs.best_params_\n",
    "        ])"
   ]
  },
  {
   "cell_type": "code",
   "execution_count": 9,
   "id": "82b9f29b",
   "metadata": {},
   "outputs": [
    {
     "name": "stdout",
     "output_type": "stream",
     "text": [
      "Fitting 3 folds for each of 192 candidates, totalling 576 fits\n",
      "Fitting 3 folds for each of 192 candidates, totalling 576 fits\n",
      "Fitting 3 folds for each of 192 candidates, totalling 576 fits\n"
     ]
    }
   ],
   "source": [
    "rf_models_summary = {}\n",
    "for i,X in enumerate([data['selftext'], data['title'], data['title']+ ' ' + data['selftext']]):\n",
    "    rf_models_summary[f'model_{i+1}'] = rf_model_evaluation(X, data['subreddit'])\n",
    "    "
   ]
  },
  {
   "cell_type": "code",
   "execution_count": 10,
   "id": "a27f79b6",
   "metadata": {},
   "outputs": [
    {
     "data": {
      "text/plain": [
       "{'model_1': [0.8486950776346217,\n",
       "  0.8087215064420218,\n",
       "  0.7643944407677035,\n",
       "  0.7321428571428571,\n",
       "  0.9327176781002638,\n",
       "  0.8851485148514852,\n",
       "  {'cvec__max_df': 0.9,\n",
       "   'cvec__max_features': 3000,\n",
       "   'cvec__min_df': 2,\n",
       "   'cvec__ngram_range': (1, 1),\n",
       "   'rf__max_depth': 5,\n",
       "   'rf__max_features': 'sqrt',\n",
       "   'rf__n_estimators': 200}],\n",
       " 'model_2': [0.7862570201519656,\n",
       "  0.7284440039643211,\n",
       "  0.6889477167438782,\n",
       "  0.623015873015873,\n",
       "  0.883245382585752,\n",
       "  0.8336633663366336,\n",
       "  {'cvec__max_df': 0.9,\n",
       "   'cvec__max_features': 2000,\n",
       "   'cvec__min_df': 2,\n",
       "   'cvec__ngram_range': (1, 1),\n",
       "   'rf__max_depth': 4,\n",
       "   'rf__max_features': 'sqrt',\n",
       "   'rf__n_estimators': 200}],\n",
       " 'model_3': [0.8658738024446647,\n",
       "  0.8235877106045589,\n",
       "  0.786896095301125,\n",
       "  0.746031746031746,\n",
       "  0.9445910290237467,\n",
       "  0.900990099009901,\n",
       "  {'cvec__max_df': 0.9,\n",
       "   'cvec__max_features': 3000,\n",
       "   'cvec__min_df': 2,\n",
       "   'cvec__ngram_range': (1, 1),\n",
       "   'rf__max_depth': 5,\n",
       "   'rf__max_features': 'sqrt',\n",
       "   'rf__n_estimators': 200}]}"
      ]
     },
     "execution_count": 10,
     "metadata": {},
     "output_type": "execute_result"
    }
   ],
   "source": [
    "rf_models_summary"
   ]
  },
  {
   "cell_type": "markdown",
   "id": "1c2c3d8a",
   "metadata": {},
   "source": [
    "### Gradient Boosting Classifier"
   ]
  },
  {
   "cell_type": "code",
   "execution_count": 126,
   "id": "4f43bc58",
   "metadata": {},
   "outputs": [],
   "source": [
    "#helper function modified for Gradient Boosting\n",
    "\n",
    "def gb_model_evaluation(X, y):\n",
    "    '''\n",
    "    For a text column X and target column y, run a grid search with a particular \n",
    "    set of parameters for countvectorizing X and fitting a gradient boosting model and return an array with \n",
    "    [overall train score, overall test score, \n",
    "    r/ll train score, r/ll test score, \n",
    "    r/lg train score, r/lg test score,\n",
    "    best parameters]\n",
    "    \n",
    "    TODO: \n",
    "    Modify to pass estimator and params as arguments\n",
    "    Return a dictionary instead of a list\n",
    "    '''\n",
    "    pipe = Pipeline([\n",
    "        ('cvec', CountVectorizer(stop_words='english')),\n",
    "        ('gb', GradientBoostingClassifier(random_state = 42))    \n",
    "    ])\n",
    "\n",
    "    pipe_params = {\n",
    "        'cvec__max_features': [2000,3000,4000,5000],\n",
    "        'cvec__min_df': [2, 3],\n",
    "        'cvec__max_df': [0.9],\n",
    "        'cvec__ngram_range': [(1,2), (1,3)],\n",
    "        'gb__n_estimators': [20, 50, 100],\n",
    "        \n",
    "    }\n",
    "\n",
    "    gs = GridSearchCV(\n",
    "        estimator = pipe,\n",
    "        param_grid = pipe_params,\n",
    "        cv = 3,\n",
    "        n_jobs = -1,\n",
    "        verbose = 1\n",
    "    )\n",
    "\n",
    "    #train-test-split\n",
    "\n",
    "    X_train, X_test, y_train, y_test = train_test_split(X, y, random_state=42, stratify=y)\n",
    "\n",
    "    #fitting and evaluating the model\n",
    "\n",
    "    gs.fit(X_train, y_train)\n",
    "    \n",
    "    #training accuracy by subreddit\n",
    "    \n",
    "    preds_df = pd.DataFrame({'true': y_train, 'preds' : gs.predict(X_train).tolist() })\n",
    "    train_ll = preds_df[preds_df['true'] == 'languagelearning'].value_counts(normalize = True)['languagelearning','languagelearning']\n",
    "    train_lg = preds_df[preds_df['true'] == 'linguistics'].value_counts(normalize = True)['linguistics','linguistics']\n",
    "    \n",
    "    #testing accuracy by subreddit\n",
    "    \n",
    "    preds_df = pd.DataFrame({'true': y_test, 'preds' : gs.predict(X_test).tolist() })\n",
    "    test_ll = preds_df[preds_df['true'] == 'languagelearning'].value_counts(normalize = True)['languagelearning','languagelearning']\n",
    "    test_lg = preds_df[preds_df['true'] == 'linguistics'].value_counts(normalize = True)['linguistics','linguistics']    \n",
    "    \n",
    "    return([\n",
    "         gs.score(X_train, y_train),\n",
    "         gs.score(X_test, y_test),\n",
    "         train_ll, test_ll,\n",
    "         train_lg, test_lg,\n",
    "         gs.best_params_\n",
    "        ])"
   ]
  },
  {
   "cell_type": "code",
   "execution_count": 127,
   "id": "4af7c769",
   "metadata": {},
   "outputs": [
    {
     "name": "stdout",
     "output_type": "stream",
     "text": [
      "Fitting 3 folds for each of 48 candidates, totalling 144 fits\n",
      "Fitting 3 folds for each of 48 candidates, totalling 144 fits\n",
      "Fitting 3 folds for each of 48 candidates, totalling 144 fits\n"
     ]
    }
   ],
   "source": [
    "gb_models_summary = {}\n",
    "for i,X in enumerate([data['selftext'], data['title'], data['title']+ ' ' + data['selftext']]):\n",
    "    gb_models_summary[f'model_{i+1}'] = gb_model_evaluation(X, data['subreddit'])\n",
    "    "
   ]
  },
  {
   "cell_type": "code",
   "execution_count": 128,
   "id": "3e5de812",
   "metadata": {},
   "outputs": [
    {
     "data": {
      "text/plain": [
       "{'model_1': [0.865213082259663,\n",
       "  0.8136769078295342,\n",
       "  0.7902051621442753,\n",
       "  0.7361111111111112,\n",
       "  0.9399736147757256,\n",
       "  0.8910891089108911,\n",
       "  {'cvec__max_df': 0.9,\n",
       "   'cvec__max_features': 2000,\n",
       "   'cvec__min_df': 2,\n",
       "   'cvec__ngram_range': (1, 3),\n",
       "   'gb__n_estimators': 100}],\n",
       " 'model_2': [0.7875784605219689,\n",
       "  0.7304261645193261,\n",
       "  0.6770350761085374,\n",
       "  0.6051587301587301,\n",
       "  0.8977572559366754,\n",
       "  0.8554455445544554,\n",
       "  {'cvec__max_df': 0.9,\n",
       "   'cvec__max_features': 2000,\n",
       "   'cvec__min_df': 3,\n",
       "   'cvec__ngram_range': (1, 3),\n",
       "   'gb__n_estimators': 100}],\n",
       " 'model_3': [0.8850346878097126,\n",
       "  0.8334985133795837,\n",
       "  0.8226340172071476,\n",
       "  0.7757936507936508,\n",
       "  0.9472295514511874,\n",
       "  0.8910891089108911,\n",
       "  {'cvec__max_df': 0.9,\n",
       "   'cvec__max_features': 3000,\n",
       "   'cvec__min_df': 3,\n",
       "   'cvec__ngram_range': (1, 2),\n",
       "   'gb__n_estimators': 100}]}"
      ]
     },
     "execution_count": 128,
     "metadata": {},
     "output_type": "execute_result"
    }
   ],
   "source": [
    "gb_models_summary"
   ]
  },
  {
   "cell_type": "markdown",
   "id": "ba15ccfa",
   "metadata": {},
   "source": [
    "### Voting Classifier"
   ]
  },
  {
   "cell_type": "code",
   "execution_count": 136,
   "id": "1acf8e60",
   "metadata": {},
   "outputs": [],
   "source": [
    "#helper function modified for Voting Classifier\n",
    "\n",
    "def vc_model_evaluation(X, y):\n",
    "    '''\n",
    "    For a text column X and target column y, run a grid search with a particular \n",
    "    set of parameters for countvectorizing X and fitting a voting classifier model and return an array with \n",
    "    [overall train score, overall test score, \n",
    "    r/ll train score, r/ll test score, \n",
    "    r/lg train score, r/lg test score,\n",
    "    best parameters]\n",
    "    \n",
    "    TODO: \n",
    "    Modify to pass estimator and params as arguments\n",
    "    Return a dictionary instead of a list\n",
    "    '''\n",
    "    pipe = Pipeline([\n",
    "        ('cvec', CountVectorizer(stop_words='english')),\n",
    "        ('vote', VotingClassifier([\n",
    "                                  ('ada', AdaBoostClassifier(random_state=42)),\n",
    "                                  ('gb', GradientBoostingClassifier(random_state=42)),\n",
    "                                  ('rf', RandomForestClassifier(random_state=42))\n",
    "                                ])\n",
    "        )    \n",
    "                    ])\n",
    "\n",
    "    pipe_params = {\n",
    "        'cvec__max_features': [2000,3000,4000,5000],\n",
    "        'cvec__min_df': [2, 3],\n",
    "        'cvec__max_df': [0.9],\n",
    "        'cvec__ngram_range': [(1,2), (1,3)],\n",
    "        'vote__ada__base_estimator': [None],\n",
    "        'vote__ada__n_estimators': [50, 95, 100],\n",
    "        'vote__gb__n_estimators': [20, 50, 100],\n",
    "        'vote__rf__max_depth': [5,6],\n",
    "        'vote__rf__min_samples_split': [3,4]\n",
    "        \n",
    "    }\n",
    "\n",
    "    gs = GridSearchCV(\n",
    "        estimator = pipe,\n",
    "        param_grid = pipe_params,\n",
    "        cv = 3,\n",
    "        n_jobs = -1,\n",
    "        verbose = 1\n",
    "    )\n",
    "\n",
    "    #train-test-split\n",
    "\n",
    "    X_train, X_test, y_train, y_test = train_test_split(X, y, random_state=42, stratify=y)\n",
    "\n",
    "    #fitting and evaluating the model\n",
    "\n",
    "    gs.fit(X_train, y_train)\n",
    "    \n",
    "    #training accuracy by subreddit\n",
    "    \n",
    "    preds_df = pd.DataFrame({'true': y_train, 'preds' : gs.predict(X_train).tolist() })\n",
    "    train_ll = preds_df[preds_df['true'] == 'languagelearning'].value_counts(normalize = True)['languagelearning','languagelearning']\n",
    "    train_lg = preds_df[preds_df['true'] == 'linguistics'].value_counts(normalize = True)['linguistics','linguistics']\n",
    "    \n",
    "    #testing accuracy by subreddit\n",
    "    \n",
    "    preds_df = pd.DataFrame({'true': y_test, 'preds' : gs.predict(X_test).tolist() })\n",
    "    test_ll = preds_df[preds_df['true'] == 'languagelearning'].value_counts(normalize = True)['languagelearning','languagelearning']\n",
    "    test_lg = preds_df[preds_df['true'] == 'linguistics'].value_counts(normalize = True)['linguistics','linguistics']    \n",
    "    \n",
    "    return([\n",
    "         gs.score(X_train, y_train),\n",
    "         gs.score(X_test, y_test),\n",
    "         train_ll, test_ll,\n",
    "         train_lg, test_lg,\n",
    "         gs.best_params_\n",
    "        ])"
   ]
  },
  {
   "cell_type": "code",
   "execution_count": 137,
   "id": "275d1e59",
   "metadata": {},
   "outputs": [
    {
     "name": "stdout",
     "output_type": "stream",
     "text": [
      "Fitting 3 folds for each of 576 candidates, totalling 1728 fits\n",
      "Fitting 3 folds for each of 576 candidates, totalling 1728 fits\n",
      "Fitting 3 folds for each of 576 candidates, totalling 1728 fits\n"
     ]
    }
   ],
   "source": [
    "vc_models_summary = {}\n",
    "for i,X in enumerate([data['selftext'], data['title'], data['title']+ ' ' + data['selftext']]):\n",
    "    vc_models_summary[f'model_{i+1}'] = vc_model_evaluation(X, data['subreddit'])"
   ]
  },
  {
   "cell_type": "code",
   "execution_count": 138,
   "id": "5a16bde5",
   "metadata": {
    "scrolled": true
   },
   "outputs": [
    {
     "data": {
      "text/plain": [
       "{'model_1': [0.8678559629996696,\n",
       "  0.8166501486620417,\n",
       "  0.7941760423560555,\n",
       "  0.748015873015873,\n",
       "  0.9412928759894459,\n",
       "  0.8851485148514852,\n",
       "  {'cvec__max_df': 0.9,\n",
       "   'cvec__max_features': 4000,\n",
       "   'cvec__min_df': 2,\n",
       "   'cvec__ngram_range': (1, 2),\n",
       "   'vote__ada__base_estimator': None,\n",
       "   'vote__ada__n_estimators': 95,\n",
       "   'vote__gb__n_estimators': 100,\n",
       "   'vote__rf__max_depth': 6,\n",
       "   'vote__rf__min_samples_split': 3}],\n",
       " 'model_2': [0.7938553022794846,\n",
       "  0.7383548067393458,\n",
       "  0.686962276637988,\n",
       "  0.6130952380952381,\n",
       "  0.9003957783641161,\n",
       "  0.8633663366336634,\n",
       "  {'cvec__max_df': 0.9,\n",
       "   'cvec__max_features': 2000,\n",
       "   'cvec__min_df': 3,\n",
       "   'cvec__ngram_range': (1, 3),\n",
       "   'vote__ada__base_estimator': None,\n",
       "   'vote__ada__n_estimators': 100,\n",
       "   'vote__gb__n_estimators': 100,\n",
       "   'vote__rf__max_depth': 5,\n",
       "   'vote__rf__min_samples_split': 3}],\n",
       " 'model_3': [0.8893293690122234,\n",
       "  0.8344895936570862,\n",
       "  0.8252812706816678,\n",
       "  0.7738095238095238,\n",
       "  0.9531662269129287,\n",
       "  0.8950495049504951,\n",
       "  {'cvec__max_df': 0.9,\n",
       "   'cvec__max_features': 5000,\n",
       "   'cvec__min_df': 2,\n",
       "   'cvec__ngram_range': (1, 3),\n",
       "   'vote__ada__base_estimator': None,\n",
       "   'vote__ada__n_estimators': 100,\n",
       "   'vote__gb__n_estimators': 100,\n",
       "   'vote__rf__max_depth': 5,\n",
       "   'vote__rf__min_samples_split': 3}]}"
      ]
     },
     "execution_count": 138,
     "metadata": {},
     "output_type": "execute_result"
    }
   ],
   "source": [
    "vc_models_summary"
   ]
  },
  {
   "cell_type": "markdown",
   "id": "fc42fc7e",
   "metadata": {},
   "source": [
    "## Further analysis of the best gradient boosting model "
   ]
  },
  {
   "cell_type": "markdown",
   "id": "eb95af43",
   "metadata": {},
   "source": [
    "This section is a deeper dive into the gradient boosting model and its performance for various values of the CountVectorization parameters"
   ]
  },
  {
   "cell_type": "markdown",
   "id": "0accba46",
   "metadata": {},
   "source": [
    "### Important features"
   ]
  },
  {
   "cell_type": "code",
   "execution_count": 42,
   "id": "4f061fdb",
   "metadata": {},
   "outputs": [
    {
     "data": {
      "text/plain": [
       "GradientBoostingClassifier(random_state=42)"
      ]
     },
     "execution_count": 42,
     "metadata": {},
     "output_type": "execute_result"
    },
    {
     "name": "stdout",
     "output_type": "stream",
     "text": [
      "train score:  0.8810703666997026\n",
      "test score:  0.8305252725470763\n"
     ]
    },
    {
     "data": {
      "text/plain": [
       "learning       0.354513\n",
       "learn          0.131484\n",
       "linguistics    0.085998\n",
       "practice       0.021321\n",
       "app            0.018566\n",
       "language       0.017102\n",
       "example        0.013567\n",
       "level          0.012644\n",
       "listening      0.010319\n",
       "anki           0.009613\n",
       "dtype: float64"
      ]
     },
     "execution_count": 42,
     "metadata": {},
     "output_type": "execute_result"
    }
   ],
   "source": [
    "cv = CountVectorizer(stop_words='english', ngram_range=(1,2), max_features=3000, min_df=2, max_df=0.9)\n",
    "gb = GradientBoostingClassifier(n_estimators = 100, random_state = 42)\n",
    "\n",
    "X = data['title']+ ' ' + data['selftext']\n",
    "y = data['subreddit']\n",
    "X_train, X_test, y_train, y_test = train_test_split(X, y, random_state=42, stratify=y)\n",
    "\n",
    "X_train = cv.fit_transform(X_train)\n",
    "X_test = cv.transform(X_test)\n",
    "\n",
    "gb.fit(X_train, y_train)\n",
    "print('train score: ', gb.score(X_train,y_train))\n",
    "print('test score: ', gb.score(X_test, y_test))\n",
    "imp_features = pd.Series(gb.feature_importances_, cv.get_feature_names()).sort_values(ascending=False)\n",
    "imp_features.head(10)\n",
    "\n",
    "\n"
   ]
  },
  {
   "cell_type": "markdown",
   "id": "294e4280",
   "metadata": {},
   "source": [
    "### Model performance vs CountVectorizer parameters"
   ]
  },
  {
   "cell_type": "markdown",
   "id": "79ad1985",
   "metadata": {},
   "source": [
    "Key take-aways:\n",
    "\n",
    "- Max_features doesn't have a considerable impact on model performance\n",
    "- 1,2,3 and 5 grams are important in the model. The higher n_grams, don't affect model performance considerably"
   ]
  },
  {
   "cell_type": "code",
   "execution_count": 48,
   "id": "44544062",
   "metadata": {},
   "outputs": [
    {
     "name": "stdout",
     "output_type": "stream",
     "text": [
      "Fitting 3 folds for each of 24 candidates, totalling 72 fits\n"
     ]
    },
    {
     "data": {
      "text/plain": [
       "GridSearchCV(cv=3,\n",
       "             estimator=Pipeline(steps=[('cvec',\n",
       "                                        CountVectorizer(stop_words='english')),\n",
       "                                       ('gb',\n",
       "                                        GradientBoostingClassifier(random_state=42))]),\n",
       "             n_jobs=-1,\n",
       "             param_grid={'cvec__max_df': [0.9], 'cvec__max_features': [3000],\n",
       "                         'cvec__min_df': [3],\n",
       "                         'cvec__ngram_range': [(1, 1), (1, 2), (1, 3), (1, 4),\n",
       "                                               (1, 5), (1, 6), (1, 7), (1, 8),\n",
       "                                               (1, 9), (1, 10), (1, 11),\n",
       "                                               (1, 12), (1, 13), (1, 14),\n",
       "                                               (1, 15), (1, 16), (1, 17),\n",
       "                                               (1, 18), (1, 19), (1, 20),\n",
       "                                               (1, 21), (1, 22), (1, 23),\n",
       "                                               (1, 24)],\n",
       "                         'gb__n_estimators': [100]},\n",
       "             verbose=1)"
      ]
     },
     "execution_count": 48,
     "metadata": {},
     "output_type": "execute_result"
    }
   ],
   "source": [
    "# accuracy as a function of n when (1,n) n_grams are used:\n",
    "\n",
    "pipe = Pipeline([\n",
    "    ('cvec', CountVectorizer(stop_words='english')),\n",
    "    ('gb', GradientBoostingClassifier(random_state = 42))    \n",
    "])\n",
    "\n",
    "pipe_params = {\n",
    "    'cvec__max_features': [3000],\n",
    "    'cvec__min_df': [3],\n",
    "    'cvec__max_df': [0.9],\n",
    "    'cvec__ngram_range': [(1,i) for i in range(1,25)],\n",
    "    'gb__n_estimators': [100],\n",
    "}\n",
    "\n",
    "gs = GridSearchCV(\n",
    "    estimator = pipe,\n",
    "    param_grid = pipe_params,\n",
    "    cv = 3,\n",
    "    n_jobs = -1,\n",
    "    verbose = 1\n",
    ")\n",
    "\n",
    "#train-test-split\n",
    "X = data['title']+ ' ' + data['selftext']\n",
    "y = data['subreddit']\n",
    "X_train, X_test, y_train, y_test = train_test_split(X, y, random_state=42, stratify=y)\n",
    "\n",
    "#fitting the model\n",
    "\n",
    "gs.fit(X_train, y_train)\n",
    "\n",
    "#model performance vs n_grams used\n",
    "\n",
    "mean_cv_scores_1n = gs.cv_results_['mean_test_score']"
   ]
  },
  {
   "cell_type": "code",
   "execution_count": 49,
   "id": "a7d0d158",
   "metadata": {},
   "outputs": [
    {
     "name": "stdout",
     "output_type": "stream",
     "text": [
      "Fitting 3 folds for each of 24 candidates, totalling 72 fits\n"
     ]
    },
    {
     "data": {
      "text/plain": [
       "GridSearchCV(cv=3,\n",
       "             estimator=Pipeline(steps=[('cvec',\n",
       "                                        CountVectorizer(stop_words='english')),\n",
       "                                       ('gb',\n",
       "                                        GradientBoostingClassifier(random_state=42))]),\n",
       "             n_jobs=-1,\n",
       "             param_grid={'cvec__max_df': [0.9], 'cvec__max_features': [3000],\n",
       "                         'cvec__min_df': [3],\n",
       "                         'cvec__ngram_range': [(1, 1), (2, 2), (3, 3), (4, 4),\n",
       "                                               (5, 5), (6, 6), (7, 7), (8, 8),\n",
       "                                               (9, 9), (10, 10), (11, 11),\n",
       "                                               (12, 12), (13, 13), (14, 14),\n",
       "                                               (15, 15), (16, 16), (17, 17),\n",
       "                                               (18, 18), (19, 19), (20, 20),\n",
       "                                               (21, 21), (22, 22), (23, 23),\n",
       "                                               (24, 24)],\n",
       "                         'gb__n_estimators': [100]},\n",
       "             verbose=1)"
      ]
     },
     "execution_count": 49,
     "metadata": {},
     "output_type": "execute_result"
    }
   ],
   "source": [
    "# accuracy as a function of n when (n,n) n_grams are used:\n",
    "\n",
    "pipe = Pipeline([\n",
    "    ('cvec', CountVectorizer(stop_words='english')),\n",
    "    ('gb', GradientBoostingClassifier(random_state = 42))    \n",
    "])\n",
    "\n",
    "pipe_params = {\n",
    "    'cvec__max_features': [3000],\n",
    "    'cvec__min_df': [3],\n",
    "    'cvec__max_df': [0.9],\n",
    "    'cvec__ngram_range': [(i,i) for i in range(1,25)],\n",
    "    'gb__n_estimators': [100],\n",
    "\n",
    "}\n",
    "\n",
    "gs = GridSearchCV(\n",
    "    estimator = pipe,\n",
    "    param_grid = pipe_params,\n",
    "    cv = 3,\n",
    "    n_jobs = -1,\n",
    "    verbose = 1\n",
    ")\n",
    "\n",
    "#train-test-split\n",
    "\n",
    "\n",
    "X = data['title']+ ' ' + data['selftext']\n",
    "y = data['subreddit']\n",
    "\n",
    "X_train, X_test, y_train, y_test = train_test_split(X, y, random_state=42, stratify=y)\n",
    "\n",
    "#fitting and evaluating the model\n",
    "\n",
    "gs.fit(X_train, y_train)\n",
    "\n",
    "#model performance vs n_grams used\n",
    "\n",
    "mean_cv_scores_nn = gs.cv_results_['mean_test_score']"
   ]
  },
  {
   "cell_type": "code",
   "execution_count": 52,
   "id": "5eebb787",
   "metadata": {},
   "outputs": [
    {
     "data": {
      "image/png": "[encoded data removed]",
      "text/plain": [
       "<Figure size 432x288 with 1 Axes>"
      ]
     },
     "metadata": {},
     "output_type": "display_data"
    }
   ],
   "source": [
    "fig, ax = plt.subplots()\n",
    "\n",
    "\n",
    "sns.lineplot(y = mean_cv_scores_1n, x = [i for i in range(1,25)], \n",
    "             ax = ax, alpha = 1, color = myblue, label = '(1,n) grams')\n",
    "sns.lineplot(y = mean_cv_scores_nn, x = [i for i in range(1,25)], \n",
    "             ax = ax, alpha = 1, color = 'red', label = '(n,n) grams')\n",
    "\n",
    "plt.title('Cross Validation Score vs n_grams', fontweight = 'bold')\n",
    "plt.xlabel('n_grams')\n",
    "plt.ylabel('Cross Validation Score')\n",
    "ax.set(ylim=(0, 1)); "
   ]
  },
  {
   "cell_type": "code",
   "execution_count": 47,
   "id": "120a80db",
   "metadata": {},
   "outputs": [
    {
     "name": "stdout",
     "output_type": "stream",
     "text": [
      "Fitting 3 folds for each of 91 candidates, totalling 273 fits\n"
     ]
    },
    {
     "data": {
      "image/png": "[encoded data removed]",
      "text/plain": [
       "<Figure size 576x360 with 1 Axes>"
      ]
     },
     "metadata": {},
     "output_type": "display_data"
    }
   ],
   "source": [
    "# accuracy as a function of max_features:\n",
    "pipe = Pipeline([\n",
    "    ('cvec', CountVectorizer(stop_words='english')),\n",
    "    ('gb', GradientBoostingClassifier(random_state = 42))    \n",
    "])\n",
    "\n",
    "pipe_params = {\n",
    "    'cvec__max_features': [i for i in range(1000,10100,100)],\n",
    "    'cvec__min_df': [3],\n",
    "    'cvec__max_df': [0.9],\n",
    "    'cvec__ngram_range': [(1,3)],\n",
    "    'gb__n_estimators': [100],\n",
    "\n",
    "}\n",
    "\n",
    "gs = GridSearchCV(\n",
    "    estimator = pipe,\n",
    "    param_grid = pipe_params,\n",
    "    cv = 3,\n",
    "    n_jobs = -1,\n",
    "    verbose = 1\n",
    ")\n",
    "\n",
    "#train-test-split\n",
    "\n",
    "X = data['title']+ ' ' + data['selftext']\n",
    "y = data['subreddit']\n",
    "\n",
    "X_train, X_test, y_train, y_test = train_test_split(X, y, random_state=42, stratify=y)\n",
    "\n",
    "#fitting the model\n",
    "\n",
    "gs.fit(X_train, y_train)\n",
    "\n",
    "#model performance vs max_features used\n",
    "\n",
    "fig, ax = plt.subplots(figsize = (8,5))\n",
    "sns.lineplot(y = gs.cv_results_['mean_test_score'], x = [i for i in range(1000,10100,100)], ax = ax, alpha = 1, color = myblue)\n",
    "plt.title('Cross Validation Score vs max_features', fontweight = 'bold')\n",
    "plt.xlabel('max_features')\n",
    "plt.ylabel('Cross Validation Score')\n",
    "ax.set(ylim=(0, 1)); "
   ]
  },
  {
   "cell_type": "markdown",
   "id": "1a732cb5",
   "metadata": {},
   "source": [
    "### Some misclassified posts"
   ]
  },
  {
   "cell_type": "markdown",
   "id": "549b6761",
   "metadata": {},
   "source": [
    "Just looking at a few for fun - to judge if I could have classified them correctly :)"
   ]
  },
  {
   "cell_type": "code",
   "execution_count": 80,
   "id": "db492f61",
   "metadata": {},
   "outputs": [
    {
     "data": {
      "text/html": [
       "<div>\n",
       "<style scoped>\n",
       "    .dataframe tbody tr th:only-of-type {\n",
       "        vertical-align: middle;\n",
       "    }\n",
       "\n",
       "    .dataframe tbody tr th {\n",
       "        vertical-align: top;\n",
       "    }\n",
       "\n",
       "    .dataframe thead th {\n",
       "        text-align: right;\n",
       "    }\n",
       "</style>\n",
       "<table border=\"1\" class=\"dataframe\">\n",
       "  <thead>\n",
       "    <tr style=\"text-align: right;\">\n",
       "      <th></th>\n",
       "      <th>true_values</th>\n",
       "      <th>preds</th>\n",
       "      <th>text</th>\n",
       "    </tr>\n",
       "  </thead>\n",
       "  <tbody>\n",
       "    <tr>\n",
       "      <th>0</th>\n",
       "      <td>linguistics</td>\n",
       "      <td>languagelearning</td>\n",
       "      <td>Does having non english speaking parents affec...</td>\n",
       "    </tr>\n",
       "    <tr>\n",
       "      <th>1</th>\n",
       "      <td>languagelearning</td>\n",
       "      <td>linguistics</td>\n",
       "      <td>Portugese sounds like Russian - Am I mad? I wa...</td>\n",
       "    </tr>\n",
       "    <tr>\n",
       "      <th>2</th>\n",
       "      <td>languagelearning</td>\n",
       "      <td>linguistics</td>\n",
       "      <td>Czech Lang and where to start Keeping it simpl...</td>\n",
       "    </tr>\n",
       "    <tr>\n",
       "      <th>3</th>\n",
       "      <td>linguistics</td>\n",
       "      <td>languagelearning</td>\n",
       "      <td>Why does it seem like Spanish is easier to pra...</td>\n",
       "    </tr>\n",
       "    <tr>\n",
       "      <th>4</th>\n",
       "      <td>languagelearning</td>\n",
       "      <td>linguistics</td>\n",
       "      <td>How I am preparing for my 2nd Lingoda Sprint T...</td>\n",
       "    </tr>\n",
       "  </tbody>\n",
       "</table>\n",
       "</div>"
      ],
      "text/plain": [
       "        true_values             preds  \\\n",
       "0       linguistics  languagelearning   \n",
       "1  languagelearning       linguistics   \n",
       "2  languagelearning       linguistics   \n",
       "3       linguistics  languagelearning   \n",
       "4  languagelearning       linguistics   \n",
       "\n",
       "                                                text  \n",
       "0  Does having non english speaking parents affec...  \n",
       "1  Portugese sounds like Russian - Am I mad? I wa...  \n",
       "2  Czech Lang and where to start Keeping it simpl...  \n",
       "3  Why does it seem like Spanish is easier to pra...  \n",
       "4  How I am preparing for my 2nd Lingoda Sprint T...  "
      ]
     },
     "execution_count": 80,
     "metadata": {},
     "output_type": "execute_result"
    },
    {
     "data": {
      "text/plain": [
       "true_values                                          linguistics\n",
       "preds                                           languagelearning\n",
       "text           Does having non english speaking parents affec...\n",
       "Name: 0, dtype: object"
      ]
     },
     "execution_count": 80,
     "metadata": {},
     "output_type": "execute_result"
    },
    {
     "data": {
      "text/plain": [
       "'Does having non english speaking parents affect your english? Hi this is a weird question and i’m not sure if this is the right sub for it \\n\\nbut I’ve grown up with english as my first language living in north america (It wasn’t my first as a baby? but I grew up learning english obviously). I understand Chinese (my parents language- they only speak chinese to me) 100%, however I don’t speak it well. \\n\\nI don’t know why but sometimes I feel like my sentences doesn’t always come out perfect ?? Like sometimes I struggle to find the correct words that flow well. It doesn’t happen ALLLL the time and I don’t really have an accent. i wonder if it’s because nervous or something or I’m just stupid lol'"
      ]
     },
     "execution_count": 80,
     "metadata": {},
     "output_type": "execute_result"
    },
    {
     "data": {
      "text/plain": [
       "true_values                                     languagelearning\n",
       "preds                                                linguistics\n",
       "text           Portugese sounds like Russian - Am I mad? I wa...\n",
       "Name: 1, dtype: object"
      ]
     },
     "execution_count": 80,
     "metadata": {},
     "output_type": "execute_result"
    },
    {
     "data": {
      "text/plain": [
       "\"Portugese sounds like Russian - Am I mad? I was recently talking to a woman who I swear it sounded like she was speaking to her daughter in Russian until she revealed she was actually Portugese. These languages couldn't be any further from each other - I would have thought Portugese is close to Spanish which I understand a good bit of but this didn't sound like Spanish at all to me. \\n\\nDoes Portugese sound like Russian or not? Or am I losing my mind?\""
      ]
     },
     "execution_count": 80,
     "metadata": {},
     "output_type": "execute_result"
    },
    {
     "data": {
      "text/plain": [
       "true_values                                     languagelearning\n",
       "preds                                                linguistics\n",
       "text           Czech Lang and where to start Keeping it simpl...\n",
       "Name: 2, dtype: object"
      ]
     },
     "execution_count": 80,
     "metadata": {},
     "output_type": "execute_result"
    },
    {
     "data": {
      "text/plain": [
       "'Czech Lang and where to start Keeping it simple. Where do I start with this language?  Links? resources? My native language has nothing to do with Czech. Want to start from 0. Is there anything for the Czech language like \"language transfer\" to give you a headstart or so? Thank you so much in advance!'"
      ]
     },
     "execution_count": 80,
     "metadata": {},
     "output_type": "execute_result"
    },
    {
     "data": {
      "text/plain": [
       "true_values                                          linguistics\n",
       "preds                                           languagelearning\n",
       "text           Why does it seem like Spanish is easier to pra...\n",
       "Name: 3, dtype: object"
      ]
     },
     "execution_count": 80,
     "metadata": {},
     "output_type": "execute_result"
    },
    {
     "data": {
      "text/plain": [
       "'Why does it seem like Spanish is easier to practice with native speakers than German is? Why does it seem like Spanish is easier to practice with native speakers than German is?'"
      ]
     },
     "execution_count": 80,
     "metadata": {},
     "output_type": "execute_result"
    },
    {
     "data": {
      "text/plain": [
       "true_values                                     languagelearning\n",
       "preds                                                linguistics\n",
       "text           How I am preparing for my 2nd Lingoda Sprint T...\n",
       "Name: 4, dtype: object"
      ]
     },
     "execution_count": 80,
     "metadata": {},
     "output_type": "execute_result"
    },
    {
     "data": {
      "text/plain": [
       "'How I am preparing for my 2nd Lingoda Sprint The Youtube video can be found here - [https://youtu.be/6igvxHMCD-Y](https://youtu.be/6igvxHMCD-Y) \\n\\nI previously entered a Lingoda Sprint (which I failed and lost out on the refund) and in this video I explain why exactly I am trying it again to better my Spanish and how I am preparing for the Lingoda sprint starting next week. \\n\\nIf you are unaware of what Lingoda actually is I made a previous post explaining it in more detail. [https://www.reddit.com/r/languagelearning/comments/obkfa7/how\\\\_i\\\\_failed\\\\_lingoda\\\\_a\\\\_honest\\\\_review\\\\_video/?utm\\\\_source=share&amp;utm\\\\_medium=web2x&amp;context=3](https://www.reddit.com/r/languagelearning/comments/obkfa7/how_i_failed_lingoda_a_honest_review_video/?utm_source=share&amp;utm_medium=web2x&amp;context=3)'"
      ]
     },
     "execution_count": 80,
     "metadata": {},
     "output_type": "execute_result"
    },
    {
     "data": {
      "text/plain": [
       "true_values                                     languagelearning\n",
       "preds                                                linguistics\n",
       "text           Old Norse | Can Norwegian, Danish and Icelandi...\n",
       "Name: 5, dtype: object"
      ]
     },
     "execution_count": 80,
     "metadata": {},
     "output_type": "execute_result"
    },
    {
     "data": {
      "text/plain": [
       "'Old Norse | Can Norwegian, Danish and Icelandic speakers understand it? @Jackson Crawford YT link to the Ecolinguist video: [https://youtu.be/5MRfVHU9fr0](https://youtu.be/5MRfVHU9fr0)'"
      ]
     },
     "execution_count": 80,
     "metadata": {},
     "output_type": "execute_result"
    },
    {
     "data": {
      "text/plain": [
       "true_values                                     languagelearning\n",
       "preds                                                linguistics\n",
       "text           About different number of words in languages I...\n",
       "Name: 6, dtype: object"
      ]
     },
     "execution_count": 80,
     "metadata": {},
     "output_type": "execute_result"
    },
    {
     "data": {
      "text/plain": [
       "'About different number of words in languages I was wondering how many more words are in the romance languages as Spanish than in English.\\n\\nThis doubt comes to me because this languages have a lot of words if you consider all conjugations, gender, etc.\\n\\nI think/guess this is not reflected when associations make a total count of words in their language and I cannot find the real count of ALL words (in Spanish, at least).\\n\\nAny thoughts?'"
      ]
     },
     "execution_count": 80,
     "metadata": {},
     "output_type": "execute_result"
    }
   ],
   "source": [
    "preds_df = pd.DataFrame({'true_values': y_test, 'preds' : gs.predict(X_test).tolist(), 'text': X_test })\n",
    " \n",
    "misclassified = preds_df[preds_df['true_values'] != preds_df['preds']].reset_index(drop=True)\n",
    "misclassified.head()\n",
    "for i in range(0,7):\n",
    "    misclassified.iloc[i,:]\n",
    "    misclassified.iloc[i,:]['text']\n"
   ]
  },
  {
   "cell_type": "markdown",
   "id": "d7f4ab63",
   "metadata": {},
   "source": [
    "## Conclusions and TODO"
   ]
  },
  {
   "cell_type": "markdown",
   "id": "2d183214",
   "metadata": {},
   "source": [
    "**Conclusions**\n",
    "\n",
    "- The best performing model (a voting classifier) in the analysis led to a lift of about 9% in accuracy (from 74% to 83%) from the baseline model\n",
    "- All the classification algorithms had a better accuracy in r/linguistics compared to r/languagelearning\n",
    "- Using the text from both the title and content of the post resulted in better performance of all the models\n",
    "\n",
    "**TODO**\n",
    "\n",
    "- Include numerical features - length of post, character count, number of comments etc in the analysis\n",
    "- Preprocess the text - stemming, lemmatizing, augmenting the stopwords\n",
    "- Try other kinds of vectorization of the text (TfidfVectorizer)\n",
    "- Analyze larger samples of data\n",
    "- More hyperparameter tuning\n",
    "- Use other classification algorithms \n",
    "\n",
    "\n"
   ]
  }
 ],
 "metadata": {
  "kernelspec": {
   "display_name": "Python 3",
   "language": "python",
   "name": "python3"
  },
  "language_info": {
   "codemirror_mode": {
    "name": "ipython",
    "version": 3
   },
   "file_extension": ".py",
   "mimetype": "text/x-python",
   "name": "python",
   "nbconvert_exporter": "python",
   "pygments_lexer": "ipython3",
   "version": "3.8.8"
  }
 },
 "nbformat": 4,
 "nbformat_minor": 5
}
