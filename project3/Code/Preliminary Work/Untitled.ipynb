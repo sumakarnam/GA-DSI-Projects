{
 "cells": [
  {
   "cell_type": "markdown",
   "id": "136fc3d5",
   "metadata": {},
   "source": [
    "# Project 3 Web APIs and NLP "
   ]
  },
  {
   "cell_type": "markdown",
   "id": "fb70b800",
   "metadata": {},
   "source": [
    "## Contents\n",
    "\n",
    "1. [Introduction](#Introduction)\n",
    "2. [Data Cleaning and EDA](#Data-Cleaning-and-EDA)\n",
    "3. [Baseline Model](#Baseline-model)\n",
    "4. [Comparison of performance of ML classification models](#Comparison-of-performance-of-ML-classification-models)\n",
    "5. [Further analysis of the best gradient boosting model ](#Further-analysis-of-the-best-gradient-boosting-model)\n",
    "6. [Conclusions and TODO](#Conclusions-and-TODO)"
   ]
  },
  {
   "cell_type": "markdown",
   "id": "39e90848",
   "metadata": {},
   "source": [
    "## Introduction"
   ]
  },
  {
   "cell_type": "markdown",
   "id": "1e479f66",
   "metadata": {},
   "source": [
    "**About Reddit**\n",
    "\n",
    "[Reddit](https://www.reddit.com/) is an American social news aggregation, web content rating, and discussion website. Registered members submit content to the site such as links, text posts, images, and videos, which are then voted up or down by other members. Posts are organized by subject into user-created boards called \"communities\" or \"subreddits\", which cover a variety of topics [(source)](https://en.wikipedia.org/wiki/Reddit). \n",
    "\n",
    "**Goals**\n",
    "\n",
    "This analysis aims to scrape data from two subreddits and build a machine learning model to classify them. \n",
    "\n",
    "**The subreddits**\n",
    "\n",
    "The subreddits being used in this analysis and their descriptions from (https://www.reddit.com/) are given below:\n",
    "\n",
    "- [r/languagelearning](https://www.reddit.com/r/languagelearning/)\n",
    "\n",
    "    This is a subreddit for anybody interested in the pursuit of languages. Whether you are just starting, a polyglot or a language nerd, this is the place for you!\n",
    "        \n",
    "        \n",
    "- [r/linguistics](https://www.reddit.com/r/linguistics/)\n",
    "\n",
    "    \\*\\*lin⋅guis⋅tics\\*\\*: the scientific study of human \\*language\\* \\* what form does it take? \\* how is meaning constructed? \\* how is it structured? \\* how is it produced?\n",
    "\n",
    "**Problem Statement**\n",
    "\n",
    "[Section 3](#Baseline-model) elaborates on a basic model with an accuracy of 74%. The aim is to build more sophisticated models and improve on this baseline accuracy"
   ]
  },
  {
   "cell_type": "markdown",
   "id": "2fd9104c",
   "metadata": {},
   "source": [
    "## Data Cleaning and EDA"
   ]
  },
  {
   "cell_type": "markdown",
   "id": "a2a9df4b",
   "metadata": {},
   "source": [
    "Data cleaning and EDA details are available in this [notebook](https://git.generalassemb.ly/sumakarnam/dsir-82/blob/master/projects/project3/Code/EDA.ipynb). The scraped reddit data was cleaned by discarding any posts that were removed or had no content except for the title. \n",
    "\n",
    "The EDA invovled an analysis of the numerical features of the scraped data (character and word counts of the title and text of the post and number of comments). As the distributions of these numerical features were similar for both the subreddits, the current analysis uses only the text data to classify the posts. \n",
    "\n",
    "The following cell shows the similarity in the distributions of word counts of posts in both the subreddits"
   ]
  },
  {
   "attachments": {},
   "cell_type": "markdown",
   "id": "c467cbec",
   "metadata": {},
   "source": [
    "![distribution%20_post_%20word_count.png](./Data/Figures/distribution%20_post_%20word_count.png)"
   ]
  },
  {
   "cell_type": "markdown",
   "id": "243d6ff9",
   "metadata": {},
   "source": [
    "## Baseline model"
   ]
  },
  {
   "cell_type": "markdown",
   "id": "d04f0257",
   "metadata": {},
   "source": [
    "Two simple baseline models were built by considering the most common words that occur in one of the subreddits but not the other.\n",
    "\n",
    "For each subreddit, a list of frequent words that occur in it but not frequently in the other is constructed.\n",
    "\n",
    "Model 1: If a post contains at least one word from this list for r/languagelearning, it is classified to be from that r/languagelearning, else r/linguistics.\n",
    "Model 2: If a post contains at least one word from this list for r/linguistics, it is classified to be from that r/linguistics, r/languagelearning.\n",
    "These models were iterated for various lengths of the frequent words list.\n",
    "\n",
    "Best Accuracies of these models were observed to be as follows:\n",
    "- Model 1: 0.74\n",
    "- Model 2: 0.61"
   ]
  },
  {
   "cell_type": "markdown",
   "id": "1c48c32e",
   "metadata": {},
   "source": [
    "## Comparison of performance of ML classification models"
   ]
  },
  {
   "cell_type": "markdown",
   "id": "552a7f6a",
   "metadata": {},
   "source": [
    "The goal of this section is to improve upon the accuracy of the baseline models using various classification algorithms. The text data was featurized using CountVectorizer and the following classification models were used:\n",
    "\n",
    "- Random Forest \n",
    "- Gradient Boosting\n",
    "- Voting Classifier\n",
    "\n",
    "The hyperparameters for the CountVectorizer and the estimators were tuned using a GridSearch. \n",
    "\n",
    "For each of the above models, the subreddit posts were classified using three different feature sets.\n",
    "- model 1 : using the title of the post\n",
    "- model 2 : using the content (selftext) of the post\n",
    "- model 3 : using both the title and content of the post\n",
    "\n",
    "The models using the text from both the title and content of the post (model 3) outperformed the other two models.\n",
    "The following table summarizes the accuracies achieved with each algorithm"
   ]
  },
  {
   "cell_type": "markdown",
   "id": "49e276b6",
   "metadata": {},
   "source": [
    "|                   | Overall Accuracy |           |\n",
    "|-------------------|:----------------:|:---------:|\n",
    "|                   |   Training data  | Test Data |\n",
    "|   Random Forest   |       0.86       |    0.82   |\n",
    "| Gradient Boosting |       0.88       |    0.83   |\n",
    "| Voting Classifier |       0.89       |    0.83   |"
   ]
  },
  {
   "cell_type": "markdown",
   "id": "5e8135d8",
   "metadata": {},
   "source": [
    "## Further analysis of the best gradient boosting model "
   ]
  },
  {
   "cell_type": "markdown",
   "id": "dba90578",
   "metadata": {},
   "source": [
    "This section is a deeper dive into the gradient boosting model and its performance for various values of the CountVectorization parameters. \n",
    "\n",
    "Key take-away:\n",
    "\n",
    "- 1,2,3 and 5 grams are important in the model. The higher n_grams, don't affect model performance considerably"
   ]
  },
  {
   "attachments": {},
   "cell_type": "markdown",
   "id": "00ea16db",
   "metadata": {},
   "source": [
    "![cross%20val%20vs%20n%20grams.png](./Data/Figures/cross%20val%20vs%20n%20grams.png)"
   ]
  },
  {
   "cell_type": "markdown",
   "id": "6083962f",
   "metadata": {},
   "source": [
    "## Conclusions and TODO"
   ]
  },
  {
   "cell_type": "markdown",
   "id": "d20170d8",
   "metadata": {},
   "source": [
    "**Conclusions**\n",
    "\n",
    "- The best performing model (a voting classifier) in the analysis led to a lift of about 9% in accuracy (from 74% to 83%) from the baseline model\n",
    "- All the classification algorithms had a better accuracy in r/linguistics compared to r/languagelearning\n",
    "- Using the text from both the title and content of the post resulted in better performance of all the models\n",
    "\n",
    "**TODO**\n",
    "\n",
    "- Include numerical features - length of post, character count, number of comments etc in the analysis\n",
    "- Preprocess the text - stemming, lemmatizing, augmenting the stopwords\n",
    "- Try other kinds of vectorization of the text (TfidfVectorizer)\n",
    "- Analyze larger samples of data\n",
    "- More hyperparameter tuning\n",
    "- Use other classification algorithms \n"
   ]
  }
 ],
 "metadata": {
  "kernelspec": {
   "display_name": "Python 3",
   "language": "python",
   "name": "python3"
  },
  "language_info": {
   "codemirror_mode": {
    "name": "ipython",
    "version": 3
   },
   "file_extension": ".py",
   "mimetype": "text/x-python",
   "name": "python",
   "nbconvert_exporter": "python",
   "pygments_lexer": "ipython3",
   "version": "3.8.8"
  }
 },
 "nbformat": 4,
 "nbformat_minor": 5
}
