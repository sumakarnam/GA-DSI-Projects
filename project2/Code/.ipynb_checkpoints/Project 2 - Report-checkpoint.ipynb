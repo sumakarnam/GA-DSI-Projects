{
 "cells": [
  {
   "cell_type": "markdown",
   "id": "dc501385",
   "metadata": {},
   "source": [
    "# Project 2 Ames Housing Prediction "
   ]
  },
  {
   "cell_type": "markdown",
   "id": "e6db48fa",
   "metadata": {},
   "source": [
    "## Contents\n",
    "\n",
    "- <a href='#background'>Background and Problem Statement</a>\n",
    "- [Data Import & Cleaning](#Data-Import-and-Cleaning)\n",
    "- [Exploratory Data Analysis](#Exploratory-Data-Analysis)\n",
    "- <a href='#feature engineering'>Feature Engineering</a>\n",
    "= <a href='#Model Fitting and Cross Validation'>Model Fitting and Cross Validation</a>\n",
    "- [Conclusions and Recommendations](#Conclusions-and-Recommendations)"
   ]
  },
  {
   "cell_type": "markdown",
   "id": "38244ee9",
   "metadata": {},
   "source": [
    "## Background and Problem Statement\n",
    "\n",
    "The goal of this analysis is to predict housing prices in Ames, Iowa using extensive (79 featuers about the size, quality, amenities etc.) [data](../datasets/train.csv) about different features of the houses. A detailed description of the dataset can be found here in the [data description](http://jse.amstat.org/v19n3/decock/DataDocumentation.txt)\n",
    "\n",
    "Problem Statement: In addition to predicting the house prices for the 878 houses in the [test data](../datasets/test.csv) with the goal of minimizing the root mean sqaure error, this analysis aims to determine if predicyti"
   ]
  },
  {
   "cell_type": "code",
   "execution_count": null,
   "id": "0c7a8a62",
   "metadata": {},
   "outputs": [],
   "source": []
  }
 ],
 "metadata": {
  "kernelspec": {
   "display_name": "Python 3",
   "language": "python",
   "name": "python3"
  },
  "language_info": {
   "codemirror_mode": {
    "name": "ipython",
    "version": 3
   },
   "file_extension": ".py",
   "mimetype": "text/x-python",
   "name": "python",
   "nbconvert_exporter": "python",
   "pygments_lexer": "ipython3",
   "version": "3.8.8"
  }
 },
 "nbformat": 4,
 "nbformat_minor": 5
}
