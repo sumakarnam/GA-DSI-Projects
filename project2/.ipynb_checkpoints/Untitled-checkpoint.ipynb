{
 "cells": [
  {
   "cell_type": "markdown",
   "id": "bf4c9fe8-684b-4e1d-a838-e8784a286b44",
   "metadata": {},
   "source": [
    "# Project 2 Ames Housing Prediction \n",
    "\n",
    "## Contents\n",
    "\n",
    "- <a href='#background'>Background and Problem Statement</a>\n",
    "- <a href='#part1'>Part1</a>\n",
    "    - Functions\n",
    "    - Data Import & Cleaning\n",
    "    - Exploratory Data Analysis\n",
    "- <a href='#part2'>Part2</a>\n",
    "    - Feature Engineering\n",
    "    - Model fitting, cross validation\n",
    "- [Conclusions and Further Improvements to the model](#Conclusions-and-Recommendations)"
   ]
  },
  {
   "cell_type": "markdown",
   "id": "58a7cfff-a5d9-444e-8b8f-a965aa0dc439",
   "metadata": {},
   "source": [
    "<a id='background'></a>\n",
    "## Background and Problem Statement\n",
    "\n",
    "The goal of this analysis is to predict housing prices in Ames, Iowa using extensive [data](../datasets/train.csv) about various features of the house (79 features about the size, quality, amenities etc.). A detailed description of the dataset can be found in the [data description](http://jse.amstat.org/v19n3/decock/DataDocumentation.txt)\n",
    "\n",
    "The house prices are predicted using a Linear Regression model and the model was tuned to minimize root mean square error on the available data.\n",
    "\n",
    "Problem Statement: As the observed house prices have a log normal distribution, in addition to predicting the house prices for the 878 houses in the [test data](../datasets/test.csv), this analysis aims to determine if predicting log prices instead of prices gives a better fitting model and to quantify the lift in R<sup>2</sup> if this is indeed the case."
   ]
  },
  {
   "cell_type": "markdown",
   "id": "97d4f25f-a529-4ebb-aeed-9eb7acbc58c2",
   "metadata": {},
   "source": [
    "<a id='Part1'></a>\n",
    "## Part 1\n",
    "\n",
    "The analysis can be broadly divided into two parts. The first part contains the following sections\n",
    "\n",
    "- Functions\n",
    "- Data Import & Cleaning\n",
    "- Exploratory Data Analysis\n",
    "\n",
    "Part 1 begins with defintions of some plotting and scoring functions used repeatedly for making visualisations and scoring the models, followed by importing the dataset and treating columns with few missing values by either \n",
    "replacing them with the category mode or column mean for categorical and numerical variables respectively. This is followed by an extensive EDA of most of the columns in the provided dataset to inform feature selection\n",
    "\n"
   ]
  },
  {
   "cell_type": "markdown",
   "id": "0afb1453-883e-43d2-a6bd-bd93f9c9cc51",
   "metadata": {},
   "source": [
    "<a id='Part2'></a>\n",
    "## Part 2\n",
    "\n",
    "The second part contains the following sections\n",
    "\n",
    "- Feature Engineering\n",
    "- Model fitting, cross validation \n",
    "\n",
    "The Feature Engineering section processes the data to be fed into the model based on the feature selection choices made in EDA. The data is first split randomly into a training set and test set and is processed for the two base models - one for predicting home sale price and another for predicting log of the sale price. \n",
    "\n",
    "These models had very similar performance, with the log price model outperforming the price model marginally on the test data (R<sup>2</sup> of 0.81 vs 0.82 on the test data). The RMSE on this particular training data was much higher for the log Price model compared to the price model (44008 vs 36203). This is likely an effect of some variance in the model and higher representation of some categories in the train dataset.\n",
    "\n",
    "Two other model iterations have been attempted:\n",
    "- As Neighborhood turned out to be a feature with a fairly high coefficient in the base models, in an attempt to capture the effect of neighborhood better, a new feature (Area of the home * average price per sqft) was engineered and used in a new model\n",
    "-Another model iteration was done with the addition of an interaction feature (Area * #Rooms) in place of the Area and #Rooms features. "
   ]
  },
  {
   "cell_type": "markdown",
   "id": "bbfa9549-a842-4d15-ba19-177770ad8914",
   "metadata": {},
   "source": [
    "## <a id='Conclusions-and-Recommendations'></a>\n",
    "## Conclusions and Future Model Improvements\n",
    "\n",
    "- Conclusions\n",
    "    - The various iterations did not make a considerable difference to the model performance from the base model with R<sup>2</sup> of 0.81\n",
    "    - The mean encoded variables generally have the highest coefficients as expected across all the models\n",
    "    - The performance of the model with the mean encoding of the selected variables was considerably higher than when these variables were one-hot encoded (This analysis is not included in the report)\n",
    "- Further Improvements\n",
    "    - In cases where one of the features was dropped in favor of another due to high correlation between the two,\n",
    "    it will be interesting to see the effect of building a model with the dropped feature instead of the feature that was used (example: 'Garage Area' vs 'Garage Cars')\n",
    "    - Creating more interaction terms by using the product of the two highly correlated similar variables and analysing the effect on the model (example: 'Gr Liv Area' vs '1st Flr SF' and '2nd Flr SF')\n",
    "    - Building separate models for various groups of Neighborhoods\n",
    "    - Investigate other ways to address multicollinearity\n"
   ]
  }
 ],
 "metadata": {
  "kernelspec": {
   "display_name": "Python 3",
   "language": "python",
   "name": "python3"
  },
  "language_info": {
   "codemirror_mode": {
    "name": "ipython",
    "version": 3
   },
   "file_extension": ".py",
   "mimetype": "text/x-python",
   "name": "python",
   "nbconvert_exporter": "python",
   "pygments_lexer": "ipython3",
   "version": "3.8.8"
  }
 },
 "nbformat": 4,
 "nbformat_minor": 5
}
