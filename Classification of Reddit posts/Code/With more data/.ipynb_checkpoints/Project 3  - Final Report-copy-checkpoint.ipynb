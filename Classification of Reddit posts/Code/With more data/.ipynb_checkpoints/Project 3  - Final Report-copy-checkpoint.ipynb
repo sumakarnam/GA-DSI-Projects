{
 "cells": [
  {
   "cell_type": "markdown",
   "id": "a9b04aa3",
   "metadata": {},
   "source": [
    "# Project 3 Web APIs and NLP "
   ]
  },
  {
   "cell_type": "markdown",
   "id": "3aa63d81",
   "metadata": {},
   "source": [
    "## Contents\n",
    "\n",
    "1. [Introduction](#Introduction)\n",
    "2. [Data Cleaning and EDA](#Data-Cleaning-and-EDA)\n",
    "3. [Baseline Model](#Baseline-model)\n",
    "4. [Comparison of performance of ML classification models](#Comparison-of-performance-of-ML-classification-models)\n",
    "5. [Further analysis of the best gradient boosting model ](#Further-analysis-of-the-best-gradient-boosting-model)\n",
    "6. [Conclusions and TODO](#Conclusions-and-TODO)"
   ]
  },
  {
   "cell_type": "markdown",
   "id": "7ebaafe9",
   "metadata": {},
   "source": [
    "## Introduction"
   ]
  },
  {
   "cell_type": "markdown",
   "id": "cf06c3d4",
   "metadata": {},
   "source": [
    "**About Reddit**\n",
    "\n",
    "[Reddit](https://www.reddit.com/) is an American social news aggregation, web content rating, and discussion website. Registered members submit content to the site such as links, text posts, images, and videos, which are then voted up or down by other members. Posts are organized by subject into user-created boards called \"communities\" or \"subreddits\", which cover a variety of topics [(source)](https://en.wikipedia.org/wiki/Reddit). \n",
    "\n",
    "**Goals**\n",
    "\n",
    "This analysis aims to scrape data from two subreddits and build a machine learning model to classify them. \n",
    "\n",
    "**The subreddits**\n",
    "\n",
    "The subreddits being used in this analysis and their descriptions from (https://www.reddit.com/) are given below:\n",
    "\n",
    "- [r/languagelearning](https://www.reddit.com/r/languagelearning/)\n",
    "\n",
    "    This is a subreddit for anybody interested in the pursuit of languages. Whether you are just starting, a polyglot or a language nerd, this is the place for you!\n",
    "        \n",
    "        \n",
    "- [r/linguistics](https://www.reddit.com/r/linguistics/)\n",
    "\n",
    "    \\*\\*lin⋅guis⋅tics\\*\\*: the scientific study of human \\*language\\* \\* what form does it take? \\* how is meaning constructed? \\* how is it structured? \\* how is it produced?\n",
    "\n",
    "**Problem Statement**\n",
    "\n",
    "[Section 3](#Baseline-model) elaborates on a basic model with an accuracy of 74%. The aim is to build more sophisticated models and improve on this baseline accuracy"
   ]
  },
  {
   "cell_type": "code",
   "execution_count": 1,
   "id": "83b2ee72",
   "metadata": {},
   "outputs": [],
   "source": [
    "#imports\n",
    "\n",
    "import pandas as pd\n",
    "import numpy as np\n",
    "import matplotlib.pyplot as plt\n",
    "%matplotlib inline\n",
    "\n",
    "import seaborn as sns\n",
    "\n",
    "# seaborn plot styles\n",
    "\n",
    "sns.set_style(\"dark\")\n",
    "sns.set_palette(\"deep\")\n",
    "plt.rcParams[\"axes.labelsize\"] = 15\n",
    "plt.rcParams[\"axes.titlesize\"] = 20\n",
    "myblue = '#0b5394'\n",
    "\n",
    "from sklearn.feature_extraction.text import CountVectorizer, TfidfVectorizer\n",
    "from sklearn.model_selection import train_test_split, GridSearchCV, cross_val_score, RandomizedSearchCV\n",
    "from sklearn.ensemble import RandomForestClassifier, ExtraTreesClassifier, GradientBoostingClassifier, AdaBoostClassifier, VotingClassifier\n",
    "from sklearn.pipeline import Pipeline\n",
    "\n",
    "from sklearn.metrics import accuracy_score\n",
    "\n",
    "import pickle\n",
    "\n",
    "from scipy.stats import uniform\n",
    "\n",
    "#display all output form a cell not just the last (the options are 'all', 'none', 'last' and 'last_expr'.)\n",
    "\n",
    "from IPython.core.interactiveshell import InteractiveShell\n",
    "InteractiveShell.ast_node_interactivity = \"all\"\n",
    "\n",
    "import time"
   ]
  },
  {
   "cell_type": "markdown",
   "id": "46779e7d",
   "metadata": {},
   "source": [
    "## Data Cleaning and EDA"
   ]
  },
  {
   "cell_type": "markdown",
   "id": "7b319877",
   "metadata": {},
   "source": [
    "Data cleaning and EDA details are available in a [separate notebook](https://git.generalassemb.ly/sumakarnam/dsir-82/blob/master/projects/project3/Code/EDA.ipynb). The scraped reddit data was cleaned by discarding any posts that were removed or had no content except for the title. This data was then stored in a DataFrame which is imported in the next cell. The EDA also includes a analysis of the numerical features of the scraped data (character and word counts of the title and text of the post and number of comments). As the distributions of these numerical features were similar for both the subreddits, the current analysis uses only the text data to classify the posts. "
   ]
  },
  {
   "cell_type": "code",
   "execution_count": 2,
   "id": "5c4fc6bb",
   "metadata": {},
   "outputs": [
    {
     "data": {
      "text/html": [
       "<div>\n",
       "<style scoped>\n",
       "    .dataframe tbody tr th:only-of-type {\n",
       "        vertical-align: middle;\n",
       "    }\n",
       "\n",
       "    .dataframe tbody tr th {\n",
       "        vertical-align: top;\n",
       "    }\n",
       "\n",
       "    .dataframe thead th {\n",
       "        text-align: right;\n",
       "    }\n",
       "</style>\n",
       "<table border=\"1\" class=\"dataframe\">\n",
       "  <thead>\n",
       "    <tr style=\"text-align: right;\">\n",
       "      <th></th>\n",
       "      <th>subreddit</th>\n",
       "      <th>title</th>\n",
       "      <th>selftext</th>\n",
       "      <th>created_utc</th>\n",
       "      <th>author</th>\n",
       "      <th>num_comments</th>\n",
       "      <th>post_word_count</th>\n",
       "      <th>post_char_count</th>\n",
       "      <th>title_char_count</th>\n",
       "      <th>title_word_count</th>\n",
       "    </tr>\n",
       "  </thead>\n",
       "  <tbody>\n",
       "    <tr>\n",
       "      <th>0</th>\n",
       "      <td>languagelearning</td>\n",
       "      <td>The Language Learning Journey: Tips From a Pol...</td>\n",
       "      <td>**A bit about me**\\n\\nI currently speak four l...</td>\n",
       "      <td>1625531730</td>\n",
       "      <td>GioZun</td>\n",
       "      <td>37</td>\n",
       "      <td>1392</td>\n",
       "      <td>7719</td>\n",
       "      <td>51</td>\n",
       "      <td>8</td>\n",
       "    </tr>\n",
       "    <tr>\n",
       "      <th>1</th>\n",
       "      <td>languagelearning</td>\n",
       "      <td>Laoshu505000 Reincarnation</td>\n",
       "      <td>What if there was someone who really admired a...</td>\n",
       "      <td>1625531341</td>\n",
       "      <td>SuperPanda102</td>\n",
       "      <td>1</td>\n",
       "      <td>116</td>\n",
       "      <td>645</td>\n",
       "      <td>26</td>\n",
       "      <td>2</td>\n",
       "    </tr>\n",
       "  </tbody>\n",
       "</table>\n",
       "</div>"
      ],
      "text/plain": [
       "          subreddit                                              title  \\\n",
       "0  languagelearning  The Language Learning Journey: Tips From a Pol...   \n",
       "1  languagelearning                         Laoshu505000 Reincarnation   \n",
       "\n",
       "                                            selftext  created_utc  \\\n",
       "0  **A bit about me**\\n\\nI currently speak four l...   1625531730   \n",
       "1  What if there was someone who really admired a...   1625531341   \n",
       "\n",
       "          author  num_comments  post_word_count  post_char_count  \\\n",
       "0         GioZun            37             1392             7719   \n",
       "1  SuperPanda102             1              116              645   \n",
       "\n",
       "   title_char_count  title_word_count  \n",
       "0                51                 8  \n",
       "1                26                 2  "
      ]
     },
     "execution_count": 2,
     "metadata": {},
     "output_type": "execute_result"
    },
    {
     "data": {
      "text/plain": [
       "(9271, 10)"
      ]
     },
     "execution_count": 2,
     "metadata": {},
     "output_type": "execute_result"
    },
    {
     "data": {
      "text/html": [
       "<div>\n",
       "<style scoped>\n",
       "    .dataframe tbody tr th:only-of-type {\n",
       "        vertical-align: middle;\n",
       "    }\n",
       "\n",
       "    .dataframe tbody tr th {\n",
       "        vertical-align: top;\n",
       "    }\n",
       "\n",
       "    .dataframe thead th {\n",
       "        text-align: right;\n",
       "    }\n",
       "</style>\n",
       "<table border=\"1\" class=\"dataframe\">\n",
       "  <thead>\n",
       "    <tr style=\"text-align: right;\">\n",
       "      <th></th>\n",
       "      <th>title</th>\n",
       "      <th>selftext</th>\n",
       "      <th>created_utc</th>\n",
       "      <th>author</th>\n",
       "      <th>num_comments</th>\n",
       "      <th>post_word_count</th>\n",
       "      <th>post_char_count</th>\n",
       "      <th>title_char_count</th>\n",
       "      <th>title_word_count</th>\n",
       "    </tr>\n",
       "    <tr>\n",
       "      <th>subreddit</th>\n",
       "      <th></th>\n",
       "      <th></th>\n",
       "      <th></th>\n",
       "      <th></th>\n",
       "      <th></th>\n",
       "      <th></th>\n",
       "      <th></th>\n",
       "      <th></th>\n",
       "      <th></th>\n",
       "    </tr>\n",
       "  </thead>\n",
       "  <tbody>\n",
       "    <tr>\n",
       "      <th>languagelearning</th>\n",
       "      <td>4258</td>\n",
       "      <td>4258</td>\n",
       "      <td>4258</td>\n",
       "      <td>4258</td>\n",
       "      <td>4258</td>\n",
       "      <td>4258</td>\n",
       "      <td>4258</td>\n",
       "      <td>4258</td>\n",
       "      <td>4258</td>\n",
       "    </tr>\n",
       "    <tr>\n",
       "      <th>linguistics</th>\n",
       "      <td>5013</td>\n",
       "      <td>5013</td>\n",
       "      <td>5013</td>\n",
       "      <td>5013</td>\n",
       "      <td>5013</td>\n",
       "      <td>5013</td>\n",
       "      <td>5013</td>\n",
       "      <td>5013</td>\n",
       "      <td>5013</td>\n",
       "    </tr>\n",
       "  </tbody>\n",
       "</table>\n",
       "</div>"
      ],
      "text/plain": [
       "                  title  selftext  created_utc  author  num_comments  \\\n",
       "subreddit                                                              \n",
       "languagelearning   4258      4258         4258    4258          4258   \n",
       "linguistics        5013      5013         5013    5013          5013   \n",
       "\n",
       "                  post_word_count  post_char_count  title_char_count  \\\n",
       "subreddit                                                              \n",
       "languagelearning             4258             4258              4258   \n",
       "linguistics                  5013             5013              5013   \n",
       "\n",
       "                  title_word_count  \n",
       "subreddit                           \n",
       "languagelearning              4258  \n",
       "linguistics                   5013  "
      ]
     },
     "execution_count": 2,
     "metadata": {},
     "output_type": "execute_result"
    }
   ],
   "source": [
    "# reading in already cleaned data\n",
    "\n",
    "data = pd.read_csv('./reddit_data_clean_2.csv')\n",
    "data.head(2)\n",
    "data.shape\n",
    "data.groupby('subreddit').count()"
   ]
  },
  {
   "cell_type": "markdown",
   "id": "4f4a226a",
   "metadata": {},
   "source": [
    "## Baseline model"
   ]
  },
  {
   "cell_type": "markdown",
   "id": "b826b04f",
   "metadata": {},
   "source": [
    "This section involves building two simple baseline models by considering the most common words that occur in one of the subreddits but not the other.\n",
    "\n",
    "For each subreddit, a list of frequent words that occur in it but not frequently in the other is constructed. \n",
    "\n",
    "- Model 1: If a post contains at least one word from this list for r/languagelearning, it is classified to be from that r/languagelearning, else r/linguistics. \n",
    "- Model 2: If a post contains at least one word from this list for r/linguistics, it is classified to be from that r/linguistics, r/languagelearning. \n",
    "\n",
    "These models were iterated for various lengths of the frequent words list.\n",
    "\n",
    "- Best Accuracies of these models were observed to be as follows:\n",
    "    - Model 1: 0.74\n",
    "    - Model 2: 0.61\n",
    "\n",
    "Here are some interesting observations about the baseline models:\n",
    "\n",
    "\n",
    "\n",
    "\n",
    "- As expected, Model 1 did better on r/languagelearning while Model 2 did better on r/linguistics. Interestingly, Model 1 did better with a shorter list of prominent words whereas Model 2 did better with a longer list of prominent words.\n",
    "\n",
    "- A sample of prominent words that featured in r/languagelearning not r/linguistics\n",
    "    - when length of frequent words list = 10: 'learn', 'learning', 'spanish', 'time'\n",
    "    - when length of frequent words list = 50: 'chinese', 'day', 'feel', 'grammar', 'italian', 'japanese', 'language learning'\n",
    "- A sample prominent words that featured in r/linguistics not r/languagelearning\n",
    "    - when length of frquent words list = 10: 'https', 'people', 'word', 'words'\n",
    "    - when length of frquent words list = 50: 'accent', 'ask', 'did', 'different', 'does', 'example', 'greek'\n",
    "    \n",
    "- Model 1 did better when shorter fewer frequent words list was used whereas Model 2 did better otherwise\n",
    "\n",
    "Note:\n",
    "\n",
    "As this model is built to establish a baseline score, no train-test-split or cross-validation was done. The models were evaluated on the whole dataset."
   ]
  },
  {
   "cell_type": "code",
   "execution_count": 3,
   "id": "e1ef07c9",
   "metadata": {},
   "outputs": [],
   "source": [
    "accuracies = {'model_1' : [], 'model_2' : []}\n",
    "\n",
    "for depth in range(10,105,5):\n",
    "\n",
    "    df = data.copy()\n",
    "    #baseline model\n",
    "\n",
    "    cv = CountVectorizer(stop_words='english', ngram_range=(1,2))\n",
    "\n",
    "    #vectorizing text column and making a DataFrame with the vectors\n",
    "\n",
    "    vect = cv.fit_transform(df['title'] + ' ' + df['selftext'])\n",
    "    vect_df = pd.DataFrame(vect.todense(), columns=cv.get_feature_names())\n",
    "\n",
    "    #creating a disctionary of important words for each subreddit\n",
    "\n",
    "    imp_words_dict = {'languagelearning' : [] , 'linguistics' : []}\n",
    "    for subreddit in imp_words_dict.keys():    \n",
    "        imp_words_dict[subreddit] = vect_df[df['subreddit'] == subreddit].sum().sort_values(ascending=False).head(depth).index.to_list()\n",
    "\n",
    "    #creating lists of words that are prominent in one subreddit but not the other\n",
    "\n",
    "    languagelearning_features = set(imp_words_dict['languagelearning'])-set(imp_words_dict['linguistics'])\n",
    "    linguistics_features = set(imp_words_dict['linguistics'])-set(imp_words_dict['languagelearning'])\n",
    "\n",
    "    #naive model\n",
    "\n",
    "    df['set_of_words'] = (df['title']+ ' ' + df['selftext']).str.split(' ')\n",
    "    df['model_1'] = df['set_of_words'].map(lambda x: 'languagelearning' if languagelearning_features.intersection(x) != set() else 'linguistics')\n",
    "    df['model_2'] = df['set_of_words'].map(lambda x: 'linguistics' if linguistics_features.intersection(x) != set() else 'languagelearning')\n",
    "\n",
    "    #model accuracy\n",
    "\n",
    "    for x in ['model_1', 'model_2']:\n",
    "        \n",
    "        accuracies[x].append((df[x] == df['subreddit']).value_counts(normalize=True)[True])"
   ]
  },
  {
   "cell_type": "code",
   "execution_count": 4,
   "id": "67e7aecd",
   "metadata": {},
   "outputs": [],
   "source": [
    "#saving baseline accuracies\n",
    "pickle.dump(pd.DataFrame(accuracies), open('./baseline_accuracies_2.pkl', 'wb'))\n"
   ]
  },
  {
   "cell_type": "code",
   "execution_count": 6,
   "id": "f86efb58",
   "metadata": {},
   "outputs": [
    {
     "data": {
      "text/plain": [
       "{'model_1': [0.7547190162873476,\n",
       "  0.7123287671232876,\n",
       "  0.7068277424226082,\n",
       "  0.6950706504152734,\n",
       "  0.7239779959011973,\n",
       "  0.6932369755150469,\n",
       "  0.6830978319490886,\n",
       "  0.6752238162010571,\n",
       "  0.6791068924603603,\n",
       "  0.6612015963757955,\n",
       "  0.6242045086829899,\n",
       "  0.6340200625606731,\n",
       "  0.6279797217128681,\n",
       "  0.6211843382590875,\n",
       "  0.623018013159314,\n",
       "  0.6267932261891921,\n",
       "  0.6277639952540179,\n",
       "  0.6342357890195233,\n",
       "  0.6321863876604465],\n",
       " 'model_2': [0.5570057167511595,\n",
       "  0.564771869269766,\n",
       "  0.5837557976485817,\n",
       "  0.6025239995685471,\n",
       "  0.5908747707906374,\n",
       "  0.5959443425736166,\n",
       "  0.5885017797432855,\n",
       "  0.589041095890411,\n",
       "  0.5820299859777802,\n",
       "  0.5858051990076583,\n",
       "  0.6002588717506202,\n",
       "  0.6122316902168051,\n",
       "  0.6001510085211951,\n",
       "  0.5954050264264912,\n",
       "  0.5987487865386689,\n",
       "  0.6083486139575018,\n",
       "  0.6119081005285298,\n",
       "  0.6112609211519793,\n",
       "  0.615791176787833]}"
      ]
     },
     "execution_count": 6,
     "metadata": {},
     "output_type": "execute_result"
    }
   ],
   "source": [
    "accuracies"
   ]
  },
  {
   "cell_type": "code",
   "execution_count": 5,
   "id": "8d55f48e",
   "metadata": {},
   "outputs": [
    {
     "data": {
      "image/png": "[encoded data removed]",
      "text/plain": [
       "<Figure size 1080x360 with 2 Axes>"
      ]
     },
     "metadata": {},
     "output_type": "display_data"
    }
   ],
   "source": [
    "# Performance of the baseline models for various lengths of frequent words list\n",
    "\n",
    "fig, ax = plt.subplots(1,2,figsize = (15,5))\n",
    "sns.scatterplot(x = range(10,105,5), y = accuracies['model_1']  , ax = ax[0], alpha = 1, color = myblue)\n",
    "ax[0].set_title('using r/languagelearning words', fontweight = 'bold')\n",
    "ax[0].set_xlabel('# Prominent Words')\n",
    "ax[0].set_ylabel('Accuracy'); \n",
    "\n",
    "sns.scatterplot(x = range(10,105,5), y = accuracies['model_2']  , ax = ax[1], alpha = 1, color = myblue)\n",
    "ax[1].set_title('using r/linguistics words', fontweight = 'bold')\n",
    "ax[1].set_xlabel('# Prominent Words')\n",
    "ax[1].set_ylabel('Accuracy'); "
   ]
  },
  {
   "cell_type": "markdown",
   "id": "e02f5389",
   "metadata": {},
   "source": [
    "## Comparison of performance of ML classification models"
   ]
  },
  {
   "cell_type": "markdown",
   "id": "98892579",
   "metadata": {},
   "source": [
    "The goal of this section is to improve upon the accuracy of the baseline models using various classification algorithms. The text data was featurized using CountVectorizer and the following classification models were used:\n",
    "\n",
    "- Random Forest \n",
    "- Gradient Boosting\n",
    "- Voting Classifier\n",
    "\n",
    "The hyperparameters for the CountVectorizer and the estimators were tuned using a GridSearch. \n",
    "\n",
    "For each of the above models, the subreddit posts were classified using three different feature sets.\n",
    "- model 1 : using the title of the post\n",
    "- model 2 : using the content (selftext) of the post\n",
    "- model 3 : using both the title and content of the post\n",
    "\n",
    "The models using the text from both the title and content of the post (model 3) outperformed the other two models.\n",
    "The following table summarizes the performance of all of the above models"
   ]
  },
  {
   "cell_type": "markdown",
   "id": "01a21e48",
   "metadata": {},
   "source": [
    "|                   |                   | Overall Accuracy |           |   | Accuracy of r/languagelearning |           |   |  Accuracy of r/linguistics |           |\n",
    "|-------------------|-------------------|:----------------:|:---------:|:-:|:------------------------------:|:---------:|:-:|:--------------------------:|:---------:|\n",
    "|                   |                   |   Training data  | Test Data |   |          Training Data         | Test Data |   |        Training Data       | Test Data |\n",
    "|   Random Forest   |       Title       |       0.79       |    0.72   |   |              0.69              |    0.62   |   |            0.88            |    0.83   |\n",
    "|                   |      Content      |       0.84       |    0.8    |   |              0.76              |    0.73   |   |            0.93            |    0.88   |\n",
    "|                   | Content and title |       0.86       |    0.82   |   |              0.78              |    0.74   |   |            0.94            |    0.9    |\n",
    "|                   |                   |                  |           |   |                                |           |   |                            |           |\n",
    "| Gradient Boosting |       Title       |       0.79       |    0.73   |   |              0.68              |    0.61   |   |             0.9            |    0.85   |\n",
    "|                   |      Content      |       0.86       |    0.81   |   |              0.79              |    0.73   |   |            0.93            |    0.89   |\n",
    "|                   | Content and title |       0.88       |    0.83   |   |              0.82              |    0.77   |   |            0.95            |    0.89   |\n",
    "|                   |                   |                  |           |   |                                |           |   |                            |           |\n",
    "| Voting Classifier |       Title       |        0.8       |    0.74   |   |              0.69              |    0.61   |   |             0.9            |    0.86   |\n",
    "|                   |      Content      |       0.87       |    0.82   |   |               0.8              |    0.75   |   |            0.94            |    0.88   |\n",
    "|                   | Content and title |       0.89       |    0.83   |   |              0.82              |    0.77   |   |            0.95            |    0.89   |"
   ]
  },
  {
   "cell_type": "code",
   "execution_count": 7,
   "id": "7df65f79",
   "metadata": {},
   "outputs": [],
   "source": [
    "#helper function\n",
    "\n",
    "#shorthand - r/ll is the subreddit languagelearning and r/lg is the subreddit linguistics\n",
    "\n",
    "def rf_model_evaluation(X, y):\n",
    "    '''\n",
    "    For a text column X and target column y, run a grid search with a particular \n",
    "    set of parameters for countvectorizing X and fitting a random forest model and return an array with \n",
    "    [overall train score, overall test score, \n",
    "    r/ll train score, r/ll test score, \n",
    "    r/lg train score, r/lg test score,\n",
    "    best parameters]\n",
    "    \n",
    "    TODO: \n",
    "    Modify to pass estimator and params as arguments\n",
    "    Return a dictionary instead of a list\n",
    "    \n",
    "    '''\n",
    "    pipe = Pipeline([\n",
    "        ('cvec', CountVectorizer(stop_words='english')),\n",
    "        ('rf', RandomForestClassifier(random_state=42))    \n",
    "    ])\n",
    "\n",
    "    pipe_params = {\n",
    "        'cvec__max_features': [2000,3000,4000,5000],\n",
    "        'cvec__min_df': [2, 3],\n",
    "        'cvec__max_df': [0.9],\n",
    "        'cvec__ngram_range': [(1,1),(1,2),(1,3)],\n",
    "        'rf__n_estimators': [100, 200],\n",
    "        'rf__max_depth': [4, 5],\n",
    "        'rf__max_features': ['sqrt', .5]\n",
    "    }\n",
    "\n",
    "    gs = GridSearchCV(\n",
    "        estimator = pipe,\n",
    "        param_grid = pipe_params,\n",
    "        cv = 3,\n",
    "        n_jobs = -1,\n",
    "        verbose = 1\n",
    "    )\n",
    "\n",
    "    #train-test-split\n",
    "\n",
    "    X_train, X_test, y_train, y_test = train_test_split(X, y, random_state=42, stratify=y)\n",
    "\n",
    "    #fitting and evaluating the model\n",
    "\n",
    "    gs.fit(X_train, y_train)\n",
    "    \n",
    "    #training accuracy by subreddit\n",
    "    preds_df = pd.DataFrame({'true': y_train, 'preds' : gs.predict(X_train).tolist() })\n",
    "    train_ll = preds_df[preds_df['true'] == 'languagelearning'].value_counts(normalize = True)['languagelearning','languagelearning']\n",
    "    train_lg = preds_df[preds_df['true'] == 'linguistics'].value_counts(normalize = True)['linguistics','linguistics']\n",
    "    \n",
    "    #testing accuracy by subreddit\n",
    "    preds_df = pd.DataFrame({'true': y_test, 'preds' : gs.predict(X_test).tolist() })\n",
    "    test_ll = preds_df[preds_df['true'] == 'languagelearning'].value_counts(normalize = True)['languagelearning','languagelearning']\n",
    "    test_lg = preds_df[preds_df['true'] == 'linguistics'].value_counts(normalize = True)['linguistics','linguistics']    \n",
    "    return([\n",
    "         gs.score(X_train, y_train),\n",
    "         gs.score(X_test, y_test),\n",
    "         train_ll, test_ll,\n",
    "         train_lg, test_lg,\n",
    "         gs.best_params_\n",
    "        ])"
   ]
  },
  {
   "cell_type": "code",
   "execution_count": 9,
   "id": "82b9f29b",
   "metadata": {},
   "outputs": [
    {
     "name": "stdout",
     "output_type": "stream",
     "text": [
      "Fitting 3 folds for each of 192 candidates, totalling 576 fits\n",
      "Fitting 3 folds for each of 192 candidates, totalling 576 fits\n",
      "Fitting 3 folds for each of 192 candidates, totalling 576 fits\n"
     ]
    }
   ],
   "source": [
    "rf_models_summary = {}\n",
    "for i,X in enumerate([data['selftext'], data['title'], data['title']+ ' ' + data['selftext']]):\n",
    "    rf_models_summary[f'model_{i+1}'] = rf_model_evaluation(X, data['subreddit'])\n",
    "    "
   ]
  },
  {
   "cell_type": "code",
   "execution_count": 10,
   "id": "a27f79b6",
   "metadata": {},
   "outputs": [
    {
     "data": {
      "text/plain": [
       "{'model_1': [0.8486950776346217,\n",
       "  0.8087215064420218,\n",
       "  0.7643944407677035,\n",
       "  0.7321428571428571,\n",
       "  0.9327176781002638,\n",
       "  0.8851485148514852,\n",
       "  {'cvec__max_df': 0.9,\n",
       "   'cvec__max_features': 3000,\n",
       "   'cvec__min_df': 2,\n",
       "   'cvec__ngram_range': (1, 1),\n",
       "   'rf__max_depth': 5,\n",
       "   'rf__max_features': 'sqrt',\n",
       "   'rf__n_estimators': 200}],\n",
       " 'model_2': [0.7862570201519656,\n",
       "  0.7284440039643211,\n",
       "  0.6889477167438782,\n",
       "  0.623015873015873,\n",
       "  0.883245382585752,\n",
       "  0.8336633663366336,\n",
       "  {'cvec__max_df': 0.9,\n",
       "   'cvec__max_features': 2000,\n",
       "   'cvec__min_df': 2,\n",
       "   'cvec__ngram_range': (1, 1),\n",
       "   'rf__max_depth': 4,\n",
       "   'rf__max_features': 'sqrt',\n",
       "   'rf__n_estimators': 200}],\n",
       " 'model_3': [0.8658738024446647,\n",
       "  0.8235877106045589,\n",
       "  0.786896095301125,\n",
       "  0.746031746031746,\n",
       "  0.9445910290237467,\n",
       "  0.900990099009901,\n",
       "  {'cvec__max_df': 0.9,\n",
       "   'cvec__max_features': 3000,\n",
       "   'cvec__min_df': 2,\n",
       "   'cvec__ngram_range': (1, 1),\n",
       "   'rf__max_depth': 5,\n",
       "   'rf__max_features': 'sqrt',\n",
       "   'rf__n_estimators': 200}]}"
      ]
     },
     "execution_count": 10,
     "metadata": {},
     "output_type": "execute_result"
    }
   ],
   "source": [
    "rf_models_summary"
   ]
  },
  {
   "cell_type": "markdown",
   "id": "1c2c3d8a",
   "metadata": {},
   "source": [
    "### Gradient Boosting Classifier"
   ]
  },
  {
   "cell_type": "code",
   "execution_count": 8,
   "id": "4f43bc58",
   "metadata": {},
   "outputs": [],
   "source": [
    "#helper function modified for Gradient Boosting\n",
    "\n",
    "def gb_model_evaluation(X, y):\n",
    "    '''\n",
    "    For a text column X and target column y, run a grid search with a particular \n",
    "    set of parameters for countvectorizing X and fitting a gradient boosting model and return an array with \n",
    "    [overall train score, overall test score, \n",
    "    r/ll train score, r/ll test score, \n",
    "    r/lg train score, r/lg test score,\n",
    "    best parameters]\n",
    "    \n",
    "    TODO: \n",
    "    Modify to pass estimator and params as arguments\n",
    "    Return a dictionary instead of a list\n",
    "    '''\n",
    "    pipe = Pipeline([\n",
    "        ('cvec', CountVectorizer(stop_words='english')),\n",
    "        ('gb', GradientBoostingClassifier(random_state = 42))    \n",
    "    ])\n",
    "\n",
    "    pipe_params = {\n",
    "        'cvec__max_features': [2000,3000,4000,5000],\n",
    "        'cvec__min_df': [2, 3],\n",
    "        'cvec__max_df': [0.9],\n",
    "        'cvec__ngram_range': [(1,2), (1,3)],\n",
    "        'gb__n_estimators': [20, 50, 100],\n",
    "        \n",
    "    }\n",
    "\n",
    "    gs = GridSearchCV(\n",
    "        estimator = pipe,\n",
    "        param_grid = pipe_params,\n",
    "        cv = 3,\n",
    "        n_jobs = -1,\n",
    "        verbose = 1\n",
    "    )\n",
    "\n",
    "    #train-test-split\n",
    "\n",
    "    X_train, X_test, y_train, y_test = train_test_split(X, y, random_state=42, stratify=y)\n",
    "\n",
    "    #fitting and evaluating the model\n",
    "\n",
    "    gs.fit(X_train, y_train)\n",
    "    \n",
    "    #training accuracy by subreddit\n",
    "    \n",
    "    preds_df = pd.DataFrame({'true': y_train, 'preds' : gs.predict(X_train).tolist() })\n",
    "    train_ll = preds_df[preds_df['true'] == 'languagelearning'].value_counts(normalize = True)['languagelearning','languagelearning']\n",
    "    train_lg = preds_df[preds_df['true'] == 'linguistics'].value_counts(normalize = True)['linguistics','linguistics']\n",
    "    \n",
    "    #testing accuracy by subreddit\n",
    "    \n",
    "    preds_df = pd.DataFrame({'true': y_test, 'preds' : gs.predict(X_test).tolist() })\n",
    "    test_ll = preds_df[preds_df['true'] == 'languagelearning'].value_counts(normalize = True)['languagelearning','languagelearning']\n",
    "    test_lg = preds_df[preds_df['true'] == 'linguistics'].value_counts(normalize = True)['linguistics','linguistics']    \n",
    "    \n",
    "    return([\n",
    "         gs.score(X_train, y_train),\n",
    "         gs.score(X_test, y_test),\n",
    "         train_ll, test_ll,\n",
    "         train_lg, test_lg,\n",
    "         gs.best_params_\n",
    "        ])"
   ]
  },
  {
   "cell_type": "code",
   "execution_count": 9,
   "id": "4af7c769",
   "metadata": {},
   "outputs": [
    {
     "name": "stdout",
     "output_type": "stream",
     "text": [
      "Fitting 3 folds for each of 48 candidates, totalling 144 fits\n",
      "Fitting 3 folds for each of 48 candidates, totalling 144 fits\n",
      "Fitting 3 folds for each of 48 candidates, totalling 144 fits\n"
     ]
    }
   ],
   "source": [
    "gb_models_summary = {}\n",
    "for i,X in enumerate([data['selftext'], data['title'], data['title']+ ' ' + data['selftext']]):\n",
    "    gb_models_summary[f'model_{i+1}'] = gb_model_evaluation(X, data['subreddit'])\n",
    "    "
   ]
  },
  {
   "cell_type": "code",
   "execution_count": 10,
   "id": "3e5de812",
   "metadata": {},
   "outputs": [
    {
     "data": {
      "text/plain": [
       "{'model_1': [0.8446713648784697,\n",
       "  0.817946505608283,\n",
       "  0.7303476354525524,\n",
       "  0.6910798122065728,\n",
       "  0.9417553191489362,\n",
       "  0.9257781324820431,\n",
       "  {'cvec__max_df': 0.9,\n",
       "   'cvec__max_features': 5000,\n",
       "   'cvec__min_df': 2,\n",
       "   'cvec__ngram_range': (1, 2),\n",
       "   'gb__n_estimators': 100}],\n",
       " 'model_2': [0.7651373507838343,\n",
       "  0.7493528904227783,\n",
       "  0.5421233949264015,\n",
       "  0.5192488262910798,\n",
       "  0.9545212765957447,\n",
       "  0.9449321628092577,\n",
       "  {'cvec__max_df': 0.9,\n",
       "   'cvec__max_features': 3000,\n",
       "   'cvec__min_df': 3,\n",
       "   'cvec__ngram_range': (1, 2),\n",
       "   'gb__n_estimators': 100}],\n",
       " 'model_3': [0.8652380267510427,\n",
       "  0.8390854184641933,\n",
       "  0.7785781396805512,\n",
       "  0.7361502347417841,\n",
       "  0.9388297872340425,\n",
       "  0.9265762170790104,\n",
       "  {'cvec__max_df': 0.9,\n",
       "   'cvec__max_features': 2000,\n",
       "   'cvec__min_df': 2,\n",
       "   'cvec__ngram_range': (1, 2),\n",
       "   'gb__n_estimators': 100}]}"
      ]
     },
     "execution_count": 10,
     "metadata": {},
     "output_type": "execute_result"
    }
   ],
   "source": [
    "gb_models_summary"
   ]
  },
  {
   "cell_type": "markdown",
   "id": "ba15ccfa",
   "metadata": {},
   "source": [
    "### Voting Classifier"
   ]
  },
  {
   "cell_type": "code",
   "execution_count": 11,
   "id": "1acf8e60",
   "metadata": {},
   "outputs": [],
   "source": [
    "#helper function modified for Voting Classifier\n",
    "\n",
    "def vc_model_evaluation(X, y):\n",
    "    '''\n",
    "    For a text column X and target column y, run a grid search with a particular \n",
    "    set of parameters for countvectorizing X and fitting a voting classifier model and return an array with \n",
    "    [overall train score, overall test score, \n",
    "    r/ll train score, r/ll test score, \n",
    "    r/lg train score, r/lg test score,\n",
    "    best parameters]\n",
    "    \n",
    "    TODO: \n",
    "    Modify to pass estimator and params as arguments\n",
    "    Return a dictionary instead of a list\n",
    "    '''\n",
    "    pipe = Pipeline([\n",
    "        ('cvec', CountVectorizer(stop_words='english')),\n",
    "        ('vote', VotingClassifier([\n",
    "                                  ('ada', AdaBoostClassifier(random_state=42)),\n",
    "                                  ('gb', GradientBoostingClassifier(random_state=42)),\n",
    "                                  ('rf', RandomForestClassifier(random_state=42))\n",
    "                                ])\n",
    "        )    \n",
    "                    ])\n",
    "\n",
    "    pipe_params = {\n",
    "        'cvec__max_features': [2000,3000,4000,5000],\n",
    "        'cvec__min_df': [2, 3],\n",
    "        'cvec__max_df': [0.9],\n",
    "        'cvec__ngram_range': [(1,2), (1,3)],\n",
    "        'vote__ada__base_estimator': [None],\n",
    "        'vote__ada__n_estimators': [50, 95, 100],\n",
    "        'vote__gb__n_estimators': [20, 50, 100],\n",
    "        'vote__rf__max_depth': [5,6],\n",
    "        'vote__rf__min_samples_split': [3,4]\n",
    "        \n",
    "    }\n",
    "\n",
    "    gs = GridSearchCV(\n",
    "        estimator = pipe,\n",
    "        param_grid = pipe_params,\n",
    "        cv = 3,\n",
    "        n_jobs = -1,\n",
    "        verbose = 1\n",
    "    )\n",
    "\n",
    "    #train-test-split\n",
    "\n",
    "    X_train, X_test, y_train, y_test = train_test_split(X, y, random_state=42, stratify=y)\n",
    "\n",
    "    #fitting and evaluating the model\n",
    "\n",
    "    gs.fit(X_train, y_train)\n",
    "    \n",
    "    #training accuracy by subreddit\n",
    "    \n",
    "    preds_df = pd.DataFrame({'true': y_train, 'preds' : gs.predict(X_train).tolist() })\n",
    "    train_ll = preds_df[preds_df['true'] == 'languagelearning'].value_counts(normalize = True)['languagelearning','languagelearning']\n",
    "    train_lg = preds_df[preds_df['true'] == 'linguistics'].value_counts(normalize = True)['linguistics','linguistics']\n",
    "    \n",
    "    #testing accuracy by subreddit\n",
    "    \n",
    "    preds_df = pd.DataFrame({'true': y_test, 'preds' : gs.predict(X_test).tolist() })\n",
    "    test_ll = preds_df[preds_df['true'] == 'languagelearning'].value_counts(normalize = True)['languagelearning','languagelearning']\n",
    "    test_lg = preds_df[preds_df['true'] == 'linguistics'].value_counts(normalize = True)['linguistics','linguistics']    \n",
    "    \n",
    "    return([\n",
    "         gs.score(X_train, y_train),\n",
    "         gs.score(X_test, y_test),\n",
    "         train_ll, test_ll,\n",
    "         train_lg, test_lg,\n",
    "         gs.best_params_\n",
    "        ])"
   ]
  },
  {
   "cell_type": "code",
   "execution_count": 12,
   "id": "275d1e59",
   "metadata": {},
   "outputs": [
    {
     "name": "stdout",
     "output_type": "stream",
     "text": [
      "Fitting 3 folds for each of 576 candidates, totalling 1728 fits\n",
      "Fitting 3 folds for each of 576 candidates, totalling 1728 fits\n",
      "Fitting 3 folds for each of 576 candidates, totalling 1728 fits\n"
     ]
    }
   ],
   "source": [
    "vc_models_summary = {}\n",
    "for i,X in enumerate([data['selftext'], data['title'], data['title']+ ' ' + data['selftext']]):\n",
    "    vc_models_summary[f'model_{i+1}'] = vc_model_evaluation(X, data['subreddit'])"
   ]
  },
  {
   "cell_type": "code",
   "execution_count": 13,
   "id": "5a16bde5",
   "metadata": {
    "scrolled": true
   },
   "outputs": [
    {
     "data": {
      "text/plain": [
       "{'model_1': [0.8451028333093629,\n",
       "  0.8235547886108714,\n",
       "  0.7159411212026308,\n",
       "  0.6854460093896714,\n",
       "  0.9547872340425532,\n",
       "  0.9409417398244214,\n",
       "  {'cvec__max_df': 0.9,\n",
       "   'cvec__max_features': 5000,\n",
       "   'cvec__min_df': 2,\n",
       "   'cvec__ngram_range': (1, 2),\n",
       "   'vote__ada__base_estimator': None,\n",
       "   'vote__ada__n_estimators': 95,\n",
       "   'vote__gb__n_estimators': 100,\n",
       "   'vote__rf__max_depth': 6,\n",
       "   'vote__rf__min_samples_split': 4}],\n",
       " 'model_2': [0.7624047173881777,\n",
       "  0.7467644521138913,\n",
       "  0.529909176323207,\n",
       "  0.5023474178403756,\n",
       "  0.9598404255319148,\n",
       "  0.9545091779728652,\n",
       "  {'cvec__max_df': 0.9,\n",
       "   'cvec__max_features': 2000,\n",
       "   'cvec__min_df': 2,\n",
       "   'cvec__ngram_range': (1, 3),\n",
       "   'vote__ada__base_estimator': None,\n",
       "   'vote__ada__n_estimators': 95,\n",
       "   'vote__gb__n_estimators': 100,\n",
       "   'vote__rf__max_depth': 6,\n",
       "   'vote__rf__min_samples_split': 3}],\n",
       " 'model_3': [0.8649503811304473,\n",
       "  0.8408110440034513,\n",
       "  0.7622925148762919,\n",
       "  0.7258215962441315,\n",
       "  0.9521276595744681,\n",
       "  0.9385474860335196,\n",
       "  {'cvec__max_df': 0.9,\n",
       "   'cvec__max_features': 5000,\n",
       "   'cvec__min_df': 2,\n",
       "   'cvec__ngram_range': (1, 2),\n",
       "   'vote__ada__base_estimator': None,\n",
       "   'vote__ada__n_estimators': 95,\n",
       "   'vote__gb__n_estimators': 100,\n",
       "   'vote__rf__max_depth': 6,\n",
       "   'vote__rf__min_samples_split': 3}]}"
      ]
     },
     "execution_count": 13,
     "metadata": {},
     "output_type": "execute_result"
    }
   ],
   "source": [
    "vc_models_summary"
   ]
  },
  {
   "cell_type": "code",
   "execution_count": 16,
   "id": "642c11ce",
   "metadata": {},
   "outputs": [],
   "source": [
    "#tesing on the same data as the previous model trained on a smaller dataset\n",
    "testing_data = pd.read_csv('./reddit_data_clean.csv')\n",
    "test_X = testing_data['title']+ ' ' + testing_data['selftext']\n",
    "test_y = testing_data['subreddit']\n",
    "\n",
    "new_X_train, new_X_test, new_y_train, new_y_test = train_test_split(test_X, test_y, random_state=42, stratify=test_y)\n",
    " "
   ]
  },
  {
   "cell_type": "code",
   "execution_count": 20,
   "id": "75403587",
   "metadata": {},
   "outputs": [
    {
     "name": "stdout",
     "output_type": "stream",
     "text": [
      "Fitting 3 folds for each of 1 candidates, totalling 3 fits\n"
     ]
    },
    {
     "data": {
      "text/plain": [
       "GridSearchCV(cv=3,\n",
       "             estimator=Pipeline(steps=[('cvec',\n",
       "                                        CountVectorizer(stop_words='english')),\n",
       "                                       ('vote',\n",
       "                                        VotingClassifier(estimators=[('ada',\n",
       "                                                                      AdaBoostClassifier(random_state=42)),\n",
       "                                                                     ('gb',\n",
       "                                                                      GradientBoostingClassifier(random_state=42)),\n",
       "                                                                     ('rf',\n",
       "                                                                      RandomForestClassifier(random_state=42))]))]),\n",
       "             n_jobs=-1,\n",
       "             param_grid={'cvec__max_df': [0.9], 'cvec__max_features': [5000],\n",
       "                         'cvec__min_df': [2], 'cvec__ngram_range': [(1, 2)],\n",
       "                         'vote__ada__base_estimator': [None],\n",
       "                         'vote__ada__n_estimators': [95],\n",
       "                         'vote__gb__n_estimators': [100],\n",
       "                         'vote__rf__max_depth': [6],\n",
       "                         'vote__rf__min_samples_split': [3]},\n",
       "             verbose=1)"
      ]
     },
     "execution_count": 20,
     "metadata": {},
     "output_type": "execute_result"
    },
    {
     "data": {
      "text/plain": [
       "0.8649503811304473"
      ]
     },
     "execution_count": 20,
     "metadata": {},
     "output_type": "execute_result"
    },
    {
     "data": {
      "text/plain": [
       "0.8305252725470763"
      ]
     },
     "execution_count": 20,
     "metadata": {},
     "output_type": "execute_result"
    }
   ],
   "source": [
    "pipe = Pipeline([\n",
    "        ('cvec', CountVectorizer(stop_words='english')),\n",
    "        ('vote', VotingClassifier([\n",
    "                                  ('ada', AdaBoostClassifier(random_state=42)),\n",
    "                                  ('gb', GradientBoostingClassifier(random_state=42)),\n",
    "                                  ('rf', RandomForestClassifier(random_state=42))\n",
    "                                ])\n",
    "        )    \n",
    "                    ])\n",
    "\n",
    "pipe_params = {\n",
    "'cvec__max_df': [0.9],\n",
    "'cvec__max_features': [5000],\n",
    "'cvec__min_df': [2],\n",
    "'cvec__ngram_range': [(1, 2)],\n",
    "'vote__ada__base_estimator': [None],\n",
    "'vote__ada__n_estimators': [95],\n",
    "'vote__gb__n_estimators': [100],\n",
    "'vote__rf__max_depth': [6],\n",
    "'vote__rf__min_samples_split': [3]        \n",
    "}\n",
    "\n",
    "gs = GridSearchCV(\n",
    "    estimator = pipe,\n",
    "    param_grid = pipe_params,\n",
    "    cv = 3,\n",
    "    n_jobs = -1,\n",
    "    verbose = 1\n",
    ")\n",
    "X = data['title']+ ' ' + data['selftext']\n",
    "y = data['subreddit']\n",
    "X_train, X_test, y_train, y_test = train_test_split(X, y, random_state=42, stratify=y)\n",
    "gs.fit(X_train, y_train)\n",
    "gs.score(X_train, y_train)\n",
    "gs.score(new_X_test,new_y_test)"
   ]
  },
  {
   "cell_type": "markdown",
   "id": "fc42fc7e",
   "metadata": {},
   "source": [
    "## Further analysis of the best gradient boosting model "
   ]
  },
  {
   "cell_type": "markdown",
   "id": "eb95af43",
   "metadata": {},
   "source": [
    "This section is a deeper dive into the gradient boosting model and its performance for various values of the CountVectorization parameters"
   ]
  },
  {
   "cell_type": "markdown",
   "id": "0accba46",
   "metadata": {},
   "source": [
    "### Important features"
   ]
  },
  {
   "cell_type": "code",
   "execution_count": 42,
   "id": "4f061fdb",
   "metadata": {},
   "outputs": [
    {
     "data": {
      "text/plain": [
       "GradientBoostingClassifier(random_state=42)"
      ]
     },
     "execution_count": 42,
     "metadata": {},
     "output_type": "execute_result"
    },
    {
     "name": "stdout",
     "output_type": "stream",
     "text": [
      "train score:  0.8810703666997026\n",
      "test score:  0.8305252725470763\n"
     ]
    },
    {
     "data": {
      "text/plain": [
       "learning       0.354513\n",
       "learn          0.131484\n",
       "linguistics    0.085998\n",
       "practice       0.021321\n",
       "app            0.018566\n",
       "language       0.017102\n",
       "example        0.013567\n",
       "level          0.012644\n",
       "listening      0.010319\n",
       "anki           0.009613\n",
       "dtype: float64"
      ]
     },
     "execution_count": 42,
     "metadata": {},
     "output_type": "execute_result"
    }
   ],
   "source": [
    "cv = CountVectorizer(stop_words='english', ngram_range=(1,2), max_features=3000, min_df=2, max_df=0.9)\n",
    "gb = GradientBoostingClassifier(n_estimators = 100, random_state = 42)\n",
    "\n",
    "X = data['title']+ ' ' + data['selftext']\n",
    "y = data['subreddit']\n",
    "X_train, X_test, y_train, y_test = train_test_split(X, y, random_state=42, stratify=y)\n",
    "\n",
    "X_train = cv.fit_transform(X_train)\n",
    "X_test = cv.transform(X_test)\n",
    "\n",
    "gb.fit(X_train, y_train)\n",
    "print('train score: ', gb.score(X_train,y_train))\n",
    "print('test score: ', gb.score(X_test, y_test))\n",
    "imp_features = pd.Series(gb.feature_importances_, cv.get_feature_names()).sort_values(ascending=False)\n",
    "imp_features.head(10)\n",
    "\n",
    "\n"
   ]
  },
  {
   "cell_type": "markdown",
   "id": "294e4280",
   "metadata": {},
   "source": [
    "### Model performance vs CountVectorizer parameters"
   ]
  },
  {
   "cell_type": "markdown",
   "id": "79ad1985",
   "metadata": {},
   "source": [
    "Key take-aways:\n",
    "\n",
    "- Max_features doesn't have a considerable impact on model performance\n",
    "- 1,2,3 and 5 grams are important in the model. The higher n_grams, don't affect model performance considerably"
   ]
  },
  {
   "cell_type": "code",
   "execution_count": 48,
   "id": "44544062",
   "metadata": {},
   "outputs": [
    {
     "name": "stdout",
     "output_type": "stream",
     "text": [
      "Fitting 3 folds for each of 24 candidates, totalling 72 fits\n"
     ]
    },
    {
     "data": {
      "text/plain": [
       "GridSearchCV(cv=3,\n",
       "             estimator=Pipeline(steps=[('cvec',\n",
       "                                        CountVectorizer(stop_words='english')),\n",
       "                                       ('gb',\n",
       "                                        GradientBoostingClassifier(random_state=42))]),\n",
       "             n_jobs=-1,\n",
       "             param_grid={'cvec__max_df': [0.9], 'cvec__max_features': [3000],\n",
       "                         'cvec__min_df': [3],\n",
       "                         'cvec__ngram_range': [(1, 1), (1, 2), (1, 3), (1, 4),\n",
       "                                               (1, 5), (1, 6), (1, 7), (1, 8),\n",
       "                                               (1, 9), (1, 10), (1, 11),\n",
       "                                               (1, 12), (1, 13), (1, 14),\n",
       "                                               (1, 15), (1, 16), (1, 17),\n",
       "                                               (1, 18), (1, 19), (1, 20),\n",
       "                                               (1, 21), (1, 22), (1, 23),\n",
       "                                               (1, 24)],\n",
       "                         'gb__n_estimators': [100]},\n",
       "             verbose=1)"
      ]
     },
     "execution_count": 48,
     "metadata": {},
     "output_type": "execute_result"
    }
   ],
   "source": [
    "# accuracy as a function of n when (1,n) n_grams are used:\n",
    "\n",
    "pipe = Pipeline([\n",
    "    ('cvec', CountVectorizer(stop_words='english')),\n",
    "    ('gb', GradientBoostingClassifier(random_state = 42))    \n",
    "])\n",
    "\n",
    "pipe_params = {\n",
    "    'cvec__max_features': [3000],\n",
    "    'cvec__min_df': [3],\n",
    "    'cvec__max_df': [0.9],\n",
    "    'cvec__ngram_range': [(1,i) for i in range(1,25)],\n",
    "    'gb__n_estimators': [100],\n",
    "}\n",
    "\n",
    "gs = GridSearchCV(\n",
    "    estimator = pipe,\n",
    "    param_grid = pipe_params,\n",
    "    cv = 3,\n",
    "    n_jobs = -1,\n",
    "    verbose = 1\n",
    ")\n",
    "\n",
    "#train-test-split\n",
    "X = data['title']+ ' ' + data['selftext']\n",
    "y = data['subreddit']\n",
    "X_train, X_test, y_train, y_test = train_test_split(X, y, random_state=42, stratify=y)\n",
    "\n",
    "#fitting the model\n",
    "\n",
    "gs.fit(X_train, y_train)\n",
    "\n",
    "#model performance vs n_grams used\n",
    "\n",
    "mean_cv_scores_1n = gs.cv_results_['mean_test_score']"
   ]
  },
  {
   "cell_type": "code",
   "execution_count": 49,
   "id": "a7d0d158",
   "metadata": {},
   "outputs": [
    {
     "name": "stdout",
     "output_type": "stream",
     "text": [
      "Fitting 3 folds for each of 24 candidates, totalling 72 fits\n"
     ]
    },
    {
     "data": {
      "text/plain": [
       "GridSearchCV(cv=3,\n",
       "             estimator=Pipeline(steps=[('cvec',\n",
       "                                        CountVectorizer(stop_words='english')),\n",
       "                                       ('gb',\n",
       "                                        GradientBoostingClassifier(random_state=42))]),\n",
       "             n_jobs=-1,\n",
       "             param_grid={'cvec__max_df': [0.9], 'cvec__max_features': [3000],\n",
       "                         'cvec__min_df': [3],\n",
       "                         'cvec__ngram_range': [(1, 1), (2, 2), (3, 3), (4, 4),\n",
       "                                               (5, 5), (6, 6), (7, 7), (8, 8),\n",
       "                                               (9, 9), (10, 10), (11, 11),\n",
       "                                               (12, 12), (13, 13), (14, 14),\n",
       "                                               (15, 15), (16, 16), (17, 17),\n",
       "                                               (18, 18), (19, 19), (20, 20),\n",
       "                                               (21, 21), (22, 22), (23, 23),\n",
       "                                               (24, 24)],\n",
       "                         'gb__n_estimators': [100]},\n",
       "             verbose=1)"
      ]
     },
     "execution_count": 49,
     "metadata": {},
     "output_type": "execute_result"
    }
   ],
   "source": [
    "# accuracy as a function of n when (n,n) n_grams are used:\n",
    "\n",
    "pipe = Pipeline([\n",
    "    ('cvec', CountVectorizer(stop_words='english')),\n",
    "    ('gb', GradientBoostingClassifier(random_state = 42))    \n",
    "])\n",
    "\n",
    "pipe_params = {\n",
    "    'cvec__max_features': [3000],\n",
    "    'cvec__min_df': [3],\n",
    "    'cvec__max_df': [0.9],\n",
    "    'cvec__ngram_range': [(i,i) for i in range(1,25)],\n",
    "    'gb__n_estimators': [100],\n",
    "\n",
    "}\n",
    "\n",
    "gs = GridSearchCV(\n",
    "    estimator = pipe,\n",
    "    param_grid = pipe_params,\n",
    "    cv = 3,\n",
    "    n_jobs = -1,\n",
    "    verbose = 1\n",
    ")\n",
    "\n",
    "#train-test-split\n",
    "\n",
    "\n",
    "X = data['title']+ ' ' + data['selftext']\n",
    "y = data['subreddit']\n",
    "\n",
    "X_train, X_test, y_train, y_test = train_test_split(X, y, random_state=42, stratify=y)\n",
    "\n",
    "#fitting and evaluating the model\n",
    "\n",
    "gs.fit(X_train, y_train)\n",
    "\n",
    "#model performance vs n_grams used\n",
    "\n",
    "mean_cv_scores_nn = gs.cv_results_['mean_test_score']"
   ]
  },
  {
   "cell_type": "code",
   "execution_count": 52,
   "id": "5eebb787",
   "metadata": {},
   "outputs": [
    {
     "data": {
      "image/png": "[encoded data removed]",
      "text/plain": [
       "<Figure size 432x288 with 1 Axes>"
      ]
     },
     "metadata": {},
     "output_type": "display_data"
    }
   ],
   "source": [
    "fig, ax = plt.subplots()\n",
    "\n",
    "\n",
    "sns.lineplot(y = mean_cv_scores_1n, x = [i for i in range(1,25)], \n",
    "             ax = ax, alpha = 1, color = myblue, label = '(1,n) grams')\n",
    "sns.lineplot(y = mean_cv_scores_nn, x = [i for i in range(1,25)], \n",
    "             ax = ax, alpha = 1, color = 'red', label = '(n,n) grams')\n",
    "\n",
    "plt.title('Cross Validation Score vs n_grams', fontweight = 'bold')\n",
    "plt.xlabel('n_grams')\n",
    "plt.ylabel('Cross Validation Score')\n",
    "ax.set(ylim=(0, 1)); "
   ]
  },
  {
   "cell_type": "code",
   "execution_count": 47,
   "id": "120a80db",
   "metadata": {},
   "outputs": [
    {
     "name": "stdout",
     "output_type": "stream",
     "text": [
      "Fitting 3 folds for each of 91 candidates, totalling 273 fits\n"
     ]
    },
    {
     "data": {
      "image/png": "[encoded data removed]",
      "text/plain": [
       "<Figure size 576x360 with 1 Axes>"
      ]
     },
     "metadata": {},
     "output_type": "display_data"
    }
   ],
   "source": [
    "# accuracy as a function of max_features:\n",
    "pipe = Pipeline([\n",
    "    ('cvec', CountVectorizer(stop_words='english')),\n",
    "    ('gb', GradientBoostingClassifier(random_state = 42))    \n",
    "])\n",
    "\n",
    "pipe_params = {\n",
    "    'cvec__max_features': [i for i in range(1000,10100,100)],\n",
    "    'cvec__min_df': [3],\n",
    "    'cvec__max_df': [0.9],\n",
    "    'cvec__ngram_range': [(1,3)],\n",
    "    'gb__n_estimators': [100],\n",
    "\n",
    "}\n",
    "\n",
    "gs = GridSearchCV(\n",
    "    estimator = pipe,\n",
    "    param_grid = pipe_params,\n",
    "    cv = 3,\n",
    "    n_jobs = -1,\n",
    "    verbose = 1\n",
    ")\n",
    "\n",
    "#train-test-split\n",
    "\n",
    "X = data['title']+ ' ' + data['selftext']\n",
    "y = data['subreddit']\n",
    "\n",
    "X_train, X_test, y_train, y_test = train_test_split(X, y, random_state=42, stratify=y)\n",
    "\n",
    "#fitting the model\n",
    "\n",
    "gs.fit(X_train, y_train)\n",
    "\n",
    "#model performance vs max_features used\n",
    "\n",
    "fig, ax = plt.subplots(figsize = (8,5))\n",
    "sns.lineplot(y = gs.cv_results_['mean_test_score'], x = [i for i in range(1000,10100,100)], ax = ax, alpha = 1, color = myblue)\n",
    "plt.title('Cross Validation Score vs max_features', fontweight = 'bold')\n",
    "plt.xlabel('max_features')\n",
    "plt.ylabel('Cross Validation Score')\n",
    "ax.set(ylim=(0, 1)); "
   ]
  },
  {
   "cell_type": "markdown",
   "id": "1a732cb5",
   "metadata": {},
   "source": [
    "### Some misclassified posts"
   ]
  },
  {
   "cell_type": "markdown",
   "id": "549b6761",
   "metadata": {},
   "source": [
    "Just looking at a few for fun - to judge if I could have classified them correctly :)"
   ]
  },
  {
   "cell_type": "code",
   "execution_count": 1,
   "id": "db492f61",
   "metadata": {},
   "outputs": [
    {
     "ename": "NameError",
     "evalue": "name 'pd' is not defined",
     "output_type": "error",
     "traceback": [
      "\u001b[0;31m---------------------------------------------------------------------------\u001b[0m",
      "\u001b[0;31mNameError\u001b[0m                                 Traceback (most recent call last)",
      "\u001b[0;32m<ipython-input-1-927b1edf116b>\u001b[0m in \u001b[0;36m<module>\u001b[0;34m\u001b[0m\n\u001b[0;32m----> 1\u001b[0;31m \u001b[0mpreds_df\u001b[0m \u001b[0;34m=\u001b[0m \u001b[0mpd\u001b[0m\u001b[0;34m.\u001b[0m\u001b[0mDataFrame\u001b[0m\u001b[0;34m(\u001b[0m\u001b[0;34m{\u001b[0m\u001b[0;34m'true_values'\u001b[0m\u001b[0;34m:\u001b[0m \u001b[0my_test\u001b[0m\u001b[0;34m,\u001b[0m \u001b[0;34m'preds'\u001b[0m \u001b[0;34m:\u001b[0m \u001b[0mgs\u001b[0m\u001b[0;34m.\u001b[0m\u001b[0mpredict\u001b[0m\u001b[0;34m(\u001b[0m\u001b[0mX_test\u001b[0m\u001b[0;34m)\u001b[0m\u001b[0;34m.\u001b[0m\u001b[0mtolist\u001b[0m\u001b[0;34m(\u001b[0m\u001b[0;34m)\u001b[0m\u001b[0;34m,\u001b[0m \u001b[0;34m'text'\u001b[0m\u001b[0;34m:\u001b[0m \u001b[0mX_test\u001b[0m \u001b[0;34m}\u001b[0m\u001b[0;34m)\u001b[0m\u001b[0;34m\u001b[0m\u001b[0;34m\u001b[0m\u001b[0m\n\u001b[0m\u001b[1;32m      2\u001b[0m \u001b[0;34m\u001b[0m\u001b[0m\n\u001b[1;32m      3\u001b[0m \u001b[0mmisclassified\u001b[0m \u001b[0;34m=\u001b[0m \u001b[0mpreds_df\u001b[0m\u001b[0;34m[\u001b[0m\u001b[0mpreds_df\u001b[0m\u001b[0;34m[\u001b[0m\u001b[0;34m'true_values'\u001b[0m\u001b[0;34m]\u001b[0m \u001b[0;34m!=\u001b[0m \u001b[0mpreds_df\u001b[0m\u001b[0;34m[\u001b[0m\u001b[0;34m'preds'\u001b[0m\u001b[0;34m]\u001b[0m\u001b[0;34m]\u001b[0m\u001b[0;34m.\u001b[0m\u001b[0mreset_index\u001b[0m\u001b[0;34m(\u001b[0m\u001b[0mdrop\u001b[0m\u001b[0;34m=\u001b[0m\u001b[0;32mTrue\u001b[0m\u001b[0;34m)\u001b[0m\u001b[0;34m\u001b[0m\u001b[0;34m\u001b[0m\u001b[0m\n\u001b[1;32m      4\u001b[0m \u001b[0mmisclassified\u001b[0m\u001b[0;34m.\u001b[0m\u001b[0mhead\u001b[0m\u001b[0;34m(\u001b[0m\u001b[0;34m)\u001b[0m\u001b[0;34m\u001b[0m\u001b[0;34m\u001b[0m\u001b[0m\n\u001b[1;32m      5\u001b[0m \u001b[0;32mfor\u001b[0m \u001b[0mi\u001b[0m \u001b[0;32min\u001b[0m \u001b[0mrange\u001b[0m\u001b[0;34m(\u001b[0m\u001b[0;36m0\u001b[0m\u001b[0;34m,\u001b[0m\u001b[0;36m10\u001b[0m\u001b[0;34m)\u001b[0m\u001b[0;34m:\u001b[0m\u001b[0;34m\u001b[0m\u001b[0;34m\u001b[0m\u001b[0m\n",
      "\u001b[0;31mNameError\u001b[0m: name 'pd' is not defined"
     ]
    }
   ],
   "source": [
    "preds_df = pd.DataFrame({'true_values': y_test, 'preds' : gs.predict(X_test).tolist(), 'text': X_test })\n",
    " \n",
    "misclassified = preds_df[preds_df['true_values'] != preds_df['preds']].reset_index(drop=True)\n",
    "misclassified.head()\n",
    "for i in range(0,10):\n",
    "    misclassified.iloc[i,:]\n",
    "    misclassified.iloc[i,:]['text']\n"
   ]
  },
  {
   "cell_type": "markdown",
   "id": "d7f4ab63",
   "metadata": {},
   "source": [
    "## Conclusions and TODO"
   ]
  },
  {
   "cell_type": "markdown",
   "id": "2d183214",
   "metadata": {},
   "source": [
    "**Conclusions**\n",
    "\n",
    "- The best performing model (a voting classifier) in the analysis led to a lift of about 9% in accuracy (from 74% to 83%) from the baseline model\n",
    "- All the classification algorithms had a better accuracy in r/linguistics compared to r/languagelearning\n",
    "- Using the text from both the title and content of the post resulted in better performance of all the models\n",
    "\n",
    "**TODO**\n",
    "\n",
    "- Include numerical features - length of post, character count, number of comments etc in the analysis\n",
    "- Preprocess the text - stemming, lemmatizing, augmenting the stopwords\n",
    "- Try other kinds of vectorization of the text (TfidfVectorizer)\n",
    "- Analyze larger samples of data\n",
    "- More hyperparameter tuning\n",
    "- Use other classification algorithms \n",
    "\n",
    "\n"
   ]
  }
 ],
 "metadata": {
  "kernelspec": {
   "display_name": "Python 3",
   "language": "python",
   "name": "python3"
  },
  "language_info": {
   "codemirror_mode": {
    "name": "ipython",
    "version": 3
   },
   "file_extension": ".py",
   "mimetype": "text/x-python",
   "name": "python",
   "nbconvert_exporter": "python",
   "pygments_lexer": "ipython3",
   "version": "3.8.8"
  }
 },
 "nbformat": 4,
 "nbformat_minor": 5
}
